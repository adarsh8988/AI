{
 "cells": [
  {
   "cell_type": "code",
   "execution_count": 3,
   "id": "1b83f685",
   "metadata": {},
   "outputs": [],
   "source": [
    "# Import necessary libraries\n",
    "# import pandas as pd\n",
    "\n",
    "# # Load the customer data into a Pandas DataFrame (replace 'your_data.csv' with your actual file)\n",
    "# customer_data = pd.read_csv('# Import necessary libraries\n",
    "import pandas as pd\n",
    "\n",
    "# # Load the customer data into a Pandas DataFrame (replace 'your_data.csv' with your actual file)\n",
    "# customer_data = pd.read_csv('toy_dataset.csv')\n",
    "\n",
    "# # Display the first few rows of the dataset to get an overview\n",
    "# print(customer_data.head())\n",
    "\n",
    "# # Analyze demographics\n",
    "# demographics_summary = customer_data[['Age', 'Gender', 'Location']].describe()\n",
    "# print(\"\\nDemographics Summary:\")\n",
    "# print(demographics_summary)\n",
    "\n",
    "# # Analyze interests\n",
    "# interests_counts = customer_data['Interests'].value_counts()\n",
    "# print(\"\\nInterests Distribution:\")\n",
    "# print(interests_counts)\n",
    "\n",
    "# # Analyze behaviors\n",
    "# behavior_summary = customer_data[['Purchase_Count', 'Time_Spent_on_Site']].describe()\n",
    "# print(\"\\nBehavioral Summary:\")\n",
    "# print(behavior_summary)\n",
    "# ')\n",
    "\n",
    "# # Display the first few rows of the dataset to get an overview\n",
    "# print(customer_data.head())\n",
    "\n",
    "# # Analyze demographics\n",
    "# demographics_summary = customer_data[['Age', 'Gender', 'Location']].describe()\n",
    "# print(\"\\nDemographics Summary:\")\n",
    "# print(demographics_summary)\n",
    "\n",
    "# # Analyze interests\n",
    "# interests_counts = customer_data['Interests'].value_counts()\n",
    "# print(\"\\nInterests Distribution:\")\n",
    "# print(interests_counts)\n",
    "\n",
    "# # Analyze behaviors\n",
    "# behavior_summary = customer_data[['Purchase_Count', 'Time_Spent_on_Site']].describe()\n",
    "# print(\"\\nBehavioral Summary:\")\n",
    "# print(behavior_summary)\n"
   ]
  },
  {
   "cell_type": "code",
   "execution_count": 4,
   "id": "33cb25f6",
   "metadata": {},
   "outputs": [],
   "source": [
    "customer_data = pd.read_csv('toy_dataset.csv')"
   ]
  },
  {
   "cell_type": "code",
   "execution_count": 6,
   "id": "e95c4f2e",
   "metadata": {},
   "outputs": [
    {
     "name": "stdout",
     "output_type": "stream",
     "text": [
      "   Number    City Gender  Age   Income Illness\n",
      "0       1  Dallas   Male   41  40367.0      No\n",
      "1       2  Dallas   Male   54  45084.0      No\n",
      "2       3  Dallas   Male   42  52483.0      No\n",
      "3       4  Dallas   Male   40  40941.0      No\n",
      "4       5  Dallas   Male   46  50289.0      No\n"
     ]
    }
   ],
   "source": [
    "print(customer_data.head())\n"
   ]
  },
  {
   "cell_type": "code",
   "execution_count": 11,
   "id": "8e77f0b7",
   "metadata": {},
   "outputs": [
    {
     "name": "stdout",
     "output_type": "stream",
     "text": [
      "\n",
      "Demographics Summary:\n",
      "                 Age\n",
      "count  150000.000000\n",
      "mean       44.950200\n",
      "std        11.572486\n",
      "min        25.000000\n",
      "25%        35.000000\n",
      "50%        45.000000\n",
      "75%        55.000000\n",
      "max        65.000000\n"
     ]
    }
   ],
   "source": [
    "demographics_summary = customer_data[['Age', 'Gender', 'City']].describe()\n",
    "print(\"\\nDemographics Summary:\")\n",
    "print(demographics_summary)"
   ]
  },
  {
   "cell_type": "code",
   "execution_count": 12,
   "id": "add1e6b0",
   "metadata": {},
   "outputs": [
    {
     "ename": "KeyError",
     "evalue": "'Interests'",
     "output_type": "error",
     "traceback": [
      "\u001b[1;31m---------------------------------------------------------------------------\u001b[0m",
      "\u001b[1;31mKeyError\u001b[0m                                  Traceback (most recent call last)",
      "File \u001b[1;32m~\\AppData\\Local\\Programs\\Python\\Python311\\Lib\\site-packages\\pandas\\core\\indexes\\base.py:3791\u001b[0m, in \u001b[0;36mIndex.get_loc\u001b[1;34m(self, key)\u001b[0m\n\u001b[0;32m   3790\u001b[0m \u001b[38;5;28;01mtry\u001b[39;00m:\n\u001b[1;32m-> 3791\u001b[0m     \u001b[38;5;28;01mreturn\u001b[39;00m \u001b[38;5;28;43mself\u001b[39;49m\u001b[38;5;241;43m.\u001b[39;49m\u001b[43m_engine\u001b[49m\u001b[38;5;241;43m.\u001b[39;49m\u001b[43mget_loc\u001b[49m\u001b[43m(\u001b[49m\u001b[43mcasted_key\u001b[49m\u001b[43m)\u001b[49m\n\u001b[0;32m   3792\u001b[0m \u001b[38;5;28;01mexcept\u001b[39;00m \u001b[38;5;167;01mKeyError\u001b[39;00m \u001b[38;5;28;01mas\u001b[39;00m err:\n",
      "File \u001b[1;32mindex.pyx:152\u001b[0m, in \u001b[0;36mpandas._libs.index.IndexEngine.get_loc\u001b[1;34m()\u001b[0m\n",
      "File \u001b[1;32mindex.pyx:181\u001b[0m, in \u001b[0;36mpandas._libs.index.IndexEngine.get_loc\u001b[1;34m()\u001b[0m\n",
      "File \u001b[1;32mpandas\\_libs\\hashtable_class_helper.pxi:7080\u001b[0m, in \u001b[0;36mpandas._libs.hashtable.PyObjectHashTable.get_item\u001b[1;34m()\u001b[0m\n",
      "File \u001b[1;32mpandas\\_libs\\hashtable_class_helper.pxi:7088\u001b[0m, in \u001b[0;36mpandas._libs.hashtable.PyObjectHashTable.get_item\u001b[1;34m()\u001b[0m\n",
      "\u001b[1;31mKeyError\u001b[0m: 'Interests'",
      "\nThe above exception was the direct cause of the following exception:\n",
      "\u001b[1;31mKeyError\u001b[0m                                  Traceback (most recent call last)",
      "Cell \u001b[1;32mIn[12], line 1\u001b[0m\n\u001b[1;32m----> 1\u001b[0m interests_counts \u001b[38;5;241m=\u001b[39m \u001b[43mcustomer_data\u001b[49m\u001b[43m[\u001b[49m\u001b[38;5;124;43m'\u001b[39;49m\u001b[38;5;124;43mInterests\u001b[39;49m\u001b[38;5;124;43m'\u001b[39;49m\u001b[43m]\u001b[49m\u001b[38;5;241m.\u001b[39mvalue_counts()\n\u001b[0;32m      2\u001b[0m \u001b[38;5;66;03m# print(\"\\nInterests Distribution:\")\u001b[39;00m\n\u001b[0;32m      3\u001b[0m \u001b[38;5;66;03m# print(interests_counts)\u001b[39;00m\n",
      "File \u001b[1;32m~\\AppData\\Local\\Programs\\Python\\Python311\\Lib\\site-packages\\pandas\\core\\frame.py:3893\u001b[0m, in \u001b[0;36mDataFrame.__getitem__\u001b[1;34m(self, key)\u001b[0m\n\u001b[0;32m   3891\u001b[0m \u001b[38;5;28;01mif\u001b[39;00m \u001b[38;5;28mself\u001b[39m\u001b[38;5;241m.\u001b[39mcolumns\u001b[38;5;241m.\u001b[39mnlevels \u001b[38;5;241m>\u001b[39m \u001b[38;5;241m1\u001b[39m:\n\u001b[0;32m   3892\u001b[0m     \u001b[38;5;28;01mreturn\u001b[39;00m \u001b[38;5;28mself\u001b[39m\u001b[38;5;241m.\u001b[39m_getitem_multilevel(key)\n\u001b[1;32m-> 3893\u001b[0m indexer \u001b[38;5;241m=\u001b[39m \u001b[38;5;28;43mself\u001b[39;49m\u001b[38;5;241;43m.\u001b[39;49m\u001b[43mcolumns\u001b[49m\u001b[38;5;241;43m.\u001b[39;49m\u001b[43mget_loc\u001b[49m\u001b[43m(\u001b[49m\u001b[43mkey\u001b[49m\u001b[43m)\u001b[49m\n\u001b[0;32m   3894\u001b[0m \u001b[38;5;28;01mif\u001b[39;00m is_integer(indexer):\n\u001b[0;32m   3895\u001b[0m     indexer \u001b[38;5;241m=\u001b[39m [indexer]\n",
      "File \u001b[1;32m~\\AppData\\Local\\Programs\\Python\\Python311\\Lib\\site-packages\\pandas\\core\\indexes\\base.py:3798\u001b[0m, in \u001b[0;36mIndex.get_loc\u001b[1;34m(self, key)\u001b[0m\n\u001b[0;32m   3793\u001b[0m     \u001b[38;5;28;01mif\u001b[39;00m \u001b[38;5;28misinstance\u001b[39m(casted_key, \u001b[38;5;28mslice\u001b[39m) \u001b[38;5;129;01mor\u001b[39;00m (\n\u001b[0;32m   3794\u001b[0m         \u001b[38;5;28misinstance\u001b[39m(casted_key, abc\u001b[38;5;241m.\u001b[39mIterable)\n\u001b[0;32m   3795\u001b[0m         \u001b[38;5;129;01mand\u001b[39;00m \u001b[38;5;28many\u001b[39m(\u001b[38;5;28misinstance\u001b[39m(x, \u001b[38;5;28mslice\u001b[39m) \u001b[38;5;28;01mfor\u001b[39;00m x \u001b[38;5;129;01min\u001b[39;00m casted_key)\n\u001b[0;32m   3796\u001b[0m     ):\n\u001b[0;32m   3797\u001b[0m         \u001b[38;5;28;01mraise\u001b[39;00m InvalidIndexError(key)\n\u001b[1;32m-> 3798\u001b[0m     \u001b[38;5;28;01mraise\u001b[39;00m \u001b[38;5;167;01mKeyError\u001b[39;00m(key) \u001b[38;5;28;01mfrom\u001b[39;00m \u001b[38;5;21;01merr\u001b[39;00m\n\u001b[0;32m   3799\u001b[0m \u001b[38;5;28;01mexcept\u001b[39;00m \u001b[38;5;167;01mTypeError\u001b[39;00m:\n\u001b[0;32m   3800\u001b[0m     \u001b[38;5;66;03m# If we have a listlike key, _check_indexing_error will raise\u001b[39;00m\n\u001b[0;32m   3801\u001b[0m     \u001b[38;5;66;03m#  InvalidIndexError. Otherwise we fall through and re-raise\u001b[39;00m\n\u001b[0;32m   3802\u001b[0m     \u001b[38;5;66;03m#  the TypeError.\u001b[39;00m\n\u001b[0;32m   3803\u001b[0m     \u001b[38;5;28mself\u001b[39m\u001b[38;5;241m.\u001b[39m_check_indexing_error(key)\n",
      "\u001b[1;31mKeyError\u001b[0m: 'Interests'"
     ]
    }
   ],
   "source": [
    "interests_counts = customer_data['Interests'].value_counts()\n",
    "# print(\"\\nInterests Distribution:\")\n",
    "# print(interests_counts)\n"
   ]
  },
  {
   "cell_type": "code",
   "execution_count": null,
   "id": "d8e1e456",
   "metadata": {},
   "outputs": [],
   "source": []
  }
 ],
 "metadata": {
  "kernelspec": {
   "display_name": "Python 3 (ipykernel)",
   "language": "python",
   "name": "python3"
  },
  "language_info": {
   "codemirror_mode": {
    "name": "ipython",
    "version": 3
   },
   "file_extension": ".py",
   "mimetype": "text/x-python",
   "name": "python",
   "nbconvert_exporter": "python",
   "pygments_lexer": "ipython3",
   "version": "3.11.0"
  }
 },
 "nbformat": 4,
 "nbformat_minor": 5
}
