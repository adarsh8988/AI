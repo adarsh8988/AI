{
 "cells": [
  {
   "cell_type": "code",
   "execution_count": 1,
   "id": "92df4126",
   "metadata": {},
   "outputs": [],
   "source": [
    "from sklearn.datasets import make_regression"
   ]
  },
  {
   "cell_type": "code",
   "execution_count": 4,
   "id": "15d3602b",
   "metadata": {},
   "outputs": [
    {
     "name": "stdout",
     "output_type": "stream",
     "text": [
      "Requirement already satisfied: plotly in c:\\users\\dell\\appdata\\local\\programs\\python\\python311\\lib\\site-packages (5.18.0)\n",
      "Requirement already satisfied: tenacity>=6.2.0 in c:\\users\\dell\\appdata\\local\\programs\\python\\python311\\lib\\site-packages (from plotly) (8.2.3)\n",
      "Requirement already satisfied: packaging in c:\\users\\dell\\appdata\\local\\programs\\python\\python311\\lib\\site-packages (from plotly) (23.0)\n"
     ]
    },
    {
     "name": "stderr",
     "output_type": "stream",
     "text": [
      "DEPRECATION: celery 5.1.2 has a non-standard dependency specifier pytz>dev. pip 24.0 will enforce this behaviour change. A possible replacement is to upgrade to a newer version of celery or contact the author to suggest that they release a version with a conforming dependency specifiers. Discussion can be found at https://github.com/pypa/pip/issues/12063\n"
     ]
    }
   ],
   "source": [
    "!pip install plotly"
   ]
  },
  {
   "cell_type": "code",
   "execution_count": 2,
   "id": "16fc4f00",
   "metadata": {},
   "outputs": [],
   "source": [
    "import plotly.express as px"
   ]
  },
  {
   "cell_type": "code",
   "execution_count": 3,
   "id": "00cadabd",
   "metadata": {},
   "outputs": [],
   "source": [
    "import pandas as pd"
   ]
  },
  {
   "cell_type": "code",
   "execution_count": 4,
   "id": "0559b681",
   "metadata": {},
   "outputs": [],
   "source": [
    "import numpy as np"
   ]
  },
  {
   "cell_type": "code",
   "execution_count": 5,
   "id": "6d6a4cef",
   "metadata": {},
   "outputs": [],
   "source": [
    "x,y=make_regression(n_samples=100,n_features=2,n_informative=2,n_targets=1)"
   ]
  },
  {
   "cell_type": "code",
   "execution_count": 6,
   "id": "4c993c14",
   "metadata": {},
   "outputs": [
    {
     "data": {
      "text/plain": [
       "array([[ 0.00474228, -1.17627484],\n",
       "       [-0.83565829, -1.06135709],\n",
       "       [-0.84060119, -0.68705325],\n",
       "       [ 0.9586695 ,  0.41639263],\n",
       "       [-2.01880085,  0.83387502],\n",
       "       [-2.62189168,  0.74268491],\n",
       "       [-1.59668172,  0.32204445],\n",
       "       [ 1.56485103, -1.73510258],\n",
       "       [ 0.24292736, -1.38724919],\n",
       "       [-0.30584107,  1.50380406],\n",
       "       [-0.08502552, -0.56014237],\n",
       "       [-1.33901568, -1.13004834],\n",
       "       [ 1.01894397,  1.43485736],\n",
       "       [-1.57553513, -0.58004627],\n",
       "       [-0.85162834, -1.43032342],\n",
       "       [-1.51743365,  1.27024917],\n",
       "       [ 0.15591098, -0.14572696],\n",
       "       [ 1.4403215 , -0.03624121],\n",
       "       [ 0.59495105, -0.0456623 ],\n",
       "       [ 1.7532106 ,  0.6316588 ],\n",
       "       [-0.34901886,  0.09286814],\n",
       "       [ 0.32298601, -1.00146203],\n",
       "       [-1.10714788,  1.407745  ],\n",
       "       [-0.15771813, -0.91013893],\n",
       "       [ 1.50775167, -0.07099229],\n",
       "       [-0.38189488, -1.6825632 ],\n",
       "       [-0.05482022,  0.26429205],\n",
       "       [-0.60004524, -0.38097979],\n",
       "       [-0.0589846 , -0.3988734 ],\n",
       "       [-2.38417365,  0.57297571],\n",
       "       [ 0.38558397, -0.04230908],\n",
       "       [-0.31436942,  0.86025251],\n",
       "       [ 0.75446837,  0.58619449],\n",
       "       [ 0.35746446,  0.71090746],\n",
       "       [ 0.83435789, -0.61790363],\n",
       "       [-1.61633396,  1.0136478 ],\n",
       "       [ 1.14947162,  0.20406141],\n",
       "       [-1.15475064,  1.17561281],\n",
       "       [-1.0803227 , -0.69851114],\n",
       "       [ 1.58161095, -1.03822348],\n",
       "       [ 0.92770533, -0.89663424],\n",
       "       [-0.67432163,  0.27467317],\n",
       "       [ 1.20550468, -0.01037763],\n",
       "       [ 0.12059143,  0.74564115],\n",
       "       [ 0.33728631,  0.69859324],\n",
       "       [-0.03550946, -0.20336185],\n",
       "       [ 0.08899067,  0.22556142],\n",
       "       [ 0.12369588,  0.87811133],\n",
       "       [-0.25344239,  0.07878468],\n",
       "       [-0.20973073,  0.95105333],\n",
       "       [ 0.94439697, -0.61270175],\n",
       "       [ 1.92679916, -0.88015383],\n",
       "       [-0.20671304, -0.04551904],\n",
       "       [-0.43432782, -0.5957286 ],\n",
       "       [ 2.43133839, -0.85076475],\n",
       "       [-0.7982734 , -1.55589071],\n",
       "       [-0.94498431,  0.86930232],\n",
       "       [ 0.55858063,  1.03965427],\n",
       "       [-0.18765369,  0.26740762],\n",
       "       [ 0.34433166, -0.00756252],\n",
       "       [ 0.04953417,  0.16828224],\n",
       "       [-1.13984357,  0.99940848],\n",
       "       [-1.04350816, -0.02740969],\n",
       "       [ 0.63891316,  1.73992893],\n",
       "       [ 0.0955462 ,  2.18505447],\n",
       "       [ 0.14069411, -0.85464562],\n",
       "       [-1.47597817,  1.62371686],\n",
       "       [-0.27396758,  1.57851196],\n",
       "       [-0.05156246,  1.92466017],\n",
       "       [ 1.49267868,  0.17480582],\n",
       "       [-1.14104433,  0.10006883],\n",
       "       [-2.18923169, -0.41810774],\n",
       "       [-0.65566954,  0.76882183],\n",
       "       [-0.03414625, -0.41168525],\n",
       "       [-1.30628031,  0.97856473],\n",
       "       [-2.29515996,  1.59882729],\n",
       "       [-0.46875446,  0.41103903],\n",
       "       [-0.2161129 , -0.51574768],\n",
       "       [-0.20890437, -1.91802979],\n",
       "       [ 0.08663182, -1.87266469],\n",
       "       [-0.58944252, -1.92229242],\n",
       "       [-0.05479794,  1.92096784],\n",
       "       [ 1.51881296,  0.66252016],\n",
       "       [ 1.42280054,  0.60435518],\n",
       "       [ 0.5900554 , -0.41801186],\n",
       "       [-0.60129327,  1.70512464],\n",
       "       [-1.74275743,  0.03069051],\n",
       "       [-0.7419383 ,  0.76986209],\n",
       "       [-0.98160583, -0.19190947],\n",
       "       [-1.49126469, -1.52499372],\n",
       "       [-0.23979241,  1.44299628],\n",
       "       [-1.22567583, -0.46091652],\n",
       "       [ 0.66743774,  0.71123972],\n",
       "       [-1.37645086, -1.32949812],\n",
       "       [ 0.47626974,  0.4296907 ],\n",
       "       [-0.04511425, -1.08535712],\n",
       "       [ 0.11810219,  0.46703177],\n",
       "       [-1.19586236,  1.61626935],\n",
       "       [ 0.80212181, -0.19070444],\n",
       "       [ 0.82253371,  0.17120727]])"
      ]
     },
     "execution_count": 6,
     "metadata": {},
     "output_type": "execute_result"
    }
   ],
   "source": [
    "x"
   ]
  },
  {
   "cell_type": "code",
   "execution_count": 7,
   "id": "9a4cfa62",
   "metadata": {},
   "outputs": [
    {
     "data": {
      "text/plain": [
       "array([ -48.6072972 ,  -78.82511392,  -63.50067876,   57.18590342,\n",
       "        -49.44440247,  -78.33462306,  -53.10790996,   -6.84627496,\n",
       "        -47.44517589,   49.66204751,  -26.7804296 , -102.62993551,\n",
       "        101.95216092,  -89.65614625,  -94.7986973 ,  -10.46693333,\n",
       "          0.44422638,   58.45687471,   22.87323004,   99.1942239 ,\n",
       "        -10.6764642 ,  -28.10567419,   12.31808293,  -44.32829906,\n",
       "         59.82213724,  -85.70936174,    8.68355395,  -40.78707114,\n",
       "        -19.00515003,  -75.47981618,   14.29641066,   22.60547003,\n",
       "         55.73024843,   44.37743881,    9.09691568,  -25.23077693,\n",
       "         56.3191751 ,    0.70500423,  -73.95567843,   22.76559155,\n",
       "          1.41818027,  -16.67555524,   49.75455862,   35.95755201,\n",
       "         43.02649449,   -9.9159273 ,   13.06342956,   41.58309911,\n",
       "         -7.28195308,   30.72898621,   13.89367148,   43.69422384,\n",
       "        -10.49408642,  -42.79838279,   65.91756178,  -97.78743374,\n",
       "         -3.2715299 ,   66.38990703,    3.28296751,   14.02074433,\n",
       "          9.04429046,   -5.98529404,  -44.57847748,   98.7891844 ,\n",
       "         94.63749403,  -29.60293541,    5.92455503,   54.08863945,\n",
       "         77.70936597,   69.39303702,  -43.34970553, -108.48534444,\n",
       "          4.60361072,  -18.5027052 ,  -13.77887809,  -29.21065778,\n",
       "         -2.4598538 ,  -30.39561862,  -88.27749443,  -74.09208922,\n",
       "       -104.29615049,   77.42147453,   90.71672066,   84.30640722,\n",
       "          7.22030022,   45.71535355,  -71.27758001,    1.05540547,\n",
       "        -48.82673067, -125.35470335,   49.88868186,  -70.14870818,\n",
       "         57.29540608, -112.46371468,   37.65536012,  -46.91056435,\n",
       "         24.29416684,   17.2767666 ,   25.47981367,   41.34560815])"
      ]
     },
     "execution_count": 7,
     "metadata": {},
     "output_type": "execute_result"
    }
   ],
   "source": [
    "y"
   ]
  },
  {
   "cell_type": "code",
   "execution_count": 8,
   "id": "9c4a7c45",
   "metadata": {},
   "outputs": [],
   "source": [
    "data=pd.DataFrame({\n",
    "    \"feature1\":x[:,0],\n",
    "    \"feature2\":x[:,1],\n",
    "    \"target\": y\n",
    "})"
   ]
  },
  {
   "cell_type": "code",
   "execution_count": 9,
   "id": "8151d9fa",
   "metadata": {},
   "outputs": [
    {
     "data": {
      "text/html": [
       "<div>\n",
       "<style scoped>\n",
       "    .dataframe tbody tr th:only-of-type {\n",
       "        vertical-align: middle;\n",
       "    }\n",
       "\n",
       "    .dataframe tbody tr th {\n",
       "        vertical-align: top;\n",
       "    }\n",
       "\n",
       "    .dataframe thead th {\n",
       "        text-align: right;\n",
       "    }\n",
       "</style>\n",
       "<table border=\"1\" class=\"dataframe\">\n",
       "  <thead>\n",
       "    <tr style=\"text-align: right;\">\n",
       "      <th></th>\n",
       "      <th>feature1</th>\n",
       "      <th>feature2</th>\n",
       "      <th>target</th>\n",
       "    </tr>\n",
       "  </thead>\n",
       "  <tbody>\n",
       "    <tr>\n",
       "      <th>0</th>\n",
       "      <td>0.004742</td>\n",
       "      <td>-1.176275</td>\n",
       "      <td>-48.607297</td>\n",
       "    </tr>\n",
       "    <tr>\n",
       "      <th>1</th>\n",
       "      <td>-0.835658</td>\n",
       "      <td>-1.061357</td>\n",
       "      <td>-78.825114</td>\n",
       "    </tr>\n",
       "    <tr>\n",
       "      <th>2</th>\n",
       "      <td>-0.840601</td>\n",
       "      <td>-0.687053</td>\n",
       "      <td>-63.500679</td>\n",
       "    </tr>\n",
       "    <tr>\n",
       "      <th>3</th>\n",
       "      <td>0.958670</td>\n",
       "      <td>0.416393</td>\n",
       "      <td>57.185903</td>\n",
       "    </tr>\n",
       "    <tr>\n",
       "      <th>4</th>\n",
       "      <td>-2.018801</td>\n",
       "      <td>0.833875</td>\n",
       "      <td>-49.444402</td>\n",
       "    </tr>\n",
       "    <tr>\n",
       "      <th>...</th>\n",
       "      <td>...</td>\n",
       "      <td>...</td>\n",
       "      <td>...</td>\n",
       "    </tr>\n",
       "    <tr>\n",
       "      <th>95</th>\n",
       "      <td>-0.045114</td>\n",
       "      <td>-1.085357</td>\n",
       "      <td>-46.910564</td>\n",
       "    </tr>\n",
       "    <tr>\n",
       "      <th>96</th>\n",
       "      <td>0.118102</td>\n",
       "      <td>0.467032</td>\n",
       "      <td>24.294167</td>\n",
       "    </tr>\n",
       "    <tr>\n",
       "      <th>97</th>\n",
       "      <td>-1.195862</td>\n",
       "      <td>1.616269</td>\n",
       "      <td>17.276767</td>\n",
       "    </tr>\n",
       "    <tr>\n",
       "      <th>98</th>\n",
       "      <td>0.802122</td>\n",
       "      <td>-0.190704</td>\n",
       "      <td>25.479814</td>\n",
       "    </tr>\n",
       "    <tr>\n",
       "      <th>99</th>\n",
       "      <td>0.822534</td>\n",
       "      <td>0.171207</td>\n",
       "      <td>41.345608</td>\n",
       "    </tr>\n",
       "  </tbody>\n",
       "</table>\n",
       "<p>100 rows × 3 columns</p>\n",
       "</div>"
      ],
      "text/plain": [
       "    feature1  feature2     target\n",
       "0   0.004742 -1.176275 -48.607297\n",
       "1  -0.835658 -1.061357 -78.825114\n",
       "2  -0.840601 -0.687053 -63.500679\n",
       "3   0.958670  0.416393  57.185903\n",
       "4  -2.018801  0.833875 -49.444402\n",
       "..       ...       ...        ...\n",
       "95 -0.045114 -1.085357 -46.910564\n",
       "96  0.118102  0.467032  24.294167\n",
       "97 -1.195862  1.616269  17.276767\n",
       "98  0.802122 -0.190704  25.479814\n",
       "99  0.822534  0.171207  41.345608\n",
       "\n",
       "[100 rows x 3 columns]"
      ]
     },
     "execution_count": 9,
     "metadata": {},
     "output_type": "execute_result"
    }
   ],
   "source": [
    "data"
   ]
  },
  {
   "cell_type": "code",
   "execution_count": 10,
   "id": "29a164a9",
   "metadata": {},
   "outputs": [
    {
     "data": {
      "text/html": [
       "<div>\n",
       "<style scoped>\n",
       "    .dataframe tbody tr th:only-of-type {\n",
       "        vertical-align: middle;\n",
       "    }\n",
       "\n",
       "    .dataframe tbody tr th {\n",
       "        vertical-align: top;\n",
       "    }\n",
       "\n",
       "    .dataframe thead th {\n",
       "        text-align: right;\n",
       "    }\n",
       "</style>\n",
       "<table border=\"1\" class=\"dataframe\">\n",
       "  <thead>\n",
       "    <tr style=\"text-align: right;\">\n",
       "      <th></th>\n",
       "      <th>feature1</th>\n",
       "      <th>feature2</th>\n",
       "      <th>target</th>\n",
       "    </tr>\n",
       "  </thead>\n",
       "  <tbody>\n",
       "    <tr>\n",
       "      <th>0</th>\n",
       "      <td>0.004742</td>\n",
       "      <td>-1.176275</td>\n",
       "      <td>-48.607297</td>\n",
       "    </tr>\n",
       "    <tr>\n",
       "      <th>1</th>\n",
       "      <td>-0.835658</td>\n",
       "      <td>-1.061357</td>\n",
       "      <td>-78.825114</td>\n",
       "    </tr>\n",
       "    <tr>\n",
       "      <th>2</th>\n",
       "      <td>-0.840601</td>\n",
       "      <td>-0.687053</td>\n",
       "      <td>-63.500679</td>\n",
       "    </tr>\n",
       "  </tbody>\n",
       "</table>\n",
       "</div>"
      ],
      "text/plain": [
       "   feature1  feature2     target\n",
       "0  0.004742 -1.176275 -48.607297\n",
       "1 -0.835658 -1.061357 -78.825114\n",
       "2 -0.840601 -0.687053 -63.500679"
      ]
     },
     "execution_count": 10,
     "metadata": {},
     "output_type": "execute_result"
    }
   ],
   "source": [
    "data.head(3)"
   ]
  },
  {
   "cell_type": "code",
   "execution_count": 11,
   "id": "0198776a",
   "metadata": {},
   "outputs": [],
   "source": [
    "from sklearn.model_selection import train_test_split"
   ]
  },
  {
   "cell_type": "code",
   "execution_count": 12,
   "id": "3a984240",
   "metadata": {},
   "outputs": [],
   "source": [
    "x_train,x_test,y_train,y_test=train_test_split(x,y,test_size=0.2)"
   ]
  },
  {
   "cell_type": "code",
   "execution_count": 29,
   "id": "9809aee7",
   "metadata": {},
   "outputs": [
    {
     "data": {
      "text/plain": [
       "array([[-0.60129327,  1.70512464],\n",
       "       [-1.74275743,  0.03069051],\n",
       "       [ 0.12059143,  0.74564115],\n",
       "       [-1.19586236,  1.61626935],\n",
       "       [-0.18765369,  0.26740762],\n",
       "       [-2.01880085,  0.83387502],\n",
       "       [-0.67432163,  0.27467317],\n",
       "       [-0.60004524, -0.38097979],\n",
       "       [-0.94498431,  0.86930232],\n",
       "       [-0.25344239,  0.07878468],\n",
       "       [ 0.04953417,  0.16828224],\n",
       "       [-1.47597817,  1.62371686],\n",
       "       [-1.37645086, -1.32949812],\n",
       "       [ 2.43133839, -0.85076475],\n",
       "       [-0.20973073,  0.95105333],\n",
       "       [-2.29515996,  1.59882729],\n",
       "       [-1.22567583, -0.46091652],\n",
       "       [-0.27396758,  1.57851196],\n",
       "       [-0.20671304, -0.04551904],\n",
       "       [-0.46875446,  0.41103903],\n",
       "       [-0.0589846 , -0.3988734 ],\n",
       "       [ 0.82253371,  0.17120727],\n",
       "       [ 0.66743774,  0.71123972],\n",
       "       [-0.84060119, -0.68705325],\n",
       "       [-1.15475064,  1.17561281],\n",
       "       [ 0.24292736, -1.38724919],\n",
       "       [-1.13984357,  0.99940848],\n",
       "       [-2.62189168,  0.74268491],\n",
       "       [-0.83565829, -1.06135709],\n",
       "       [ 0.80212181, -0.19070444],\n",
       "       [-1.14104433,  0.10006883],\n",
       "       [-0.34901886,  0.09286814],\n",
       "       [ 1.51881296,  0.66252016],\n",
       "       [-2.38417365,  0.57297571],\n",
       "       [-1.33901568, -1.13004834],\n",
       "       [-1.57553513, -0.58004627],\n",
       "       [-0.20890437, -1.91802979],\n",
       "       [ 0.0955462 ,  2.18505447],\n",
       "       [-1.30628031,  0.97856473],\n",
       "       [-0.04511425, -1.08535712],\n",
       "       [ 0.12369588,  0.87811133],\n",
       "       [-1.59668172,  0.32204445],\n",
       "       [-0.05156246,  1.92466017],\n",
       "       [-0.85162834, -1.43032342],\n",
       "       [ 0.32298601, -1.00146203],\n",
       "       [-0.58944252, -1.92229242],\n",
       "       [-0.30584107,  1.50380406],\n",
       "       [ 0.33728631,  0.69859324],\n",
       "       [-0.05482022,  0.26429205],\n",
       "       [ 1.4403215 , -0.03624121],\n",
       "       [ 0.11810219,  0.46703177],\n",
       "       [-1.49126469, -1.52499372],\n",
       "       [-1.04350816, -0.02740969],\n",
       "       [ 0.08899067,  0.22556142],\n",
       "       [ 0.75446837,  0.58619449],\n",
       "       [ 0.08663182, -1.87266469],\n",
       "       [ 1.92679916, -0.88015383],\n",
       "       [-0.23979241,  1.44299628],\n",
       "       [ 0.94439697, -0.61270175],\n",
       "       [ 1.56485103, -1.73510258],\n",
       "       [-0.65566954,  0.76882183],\n",
       "       [ 0.92770533, -0.89663424],\n",
       "       [-0.38189488, -1.6825632 ],\n",
       "       [ 1.20550468, -0.01037763],\n",
       "       [-0.7419383 ,  0.76986209],\n",
       "       [ 0.83435789, -0.61790363],\n",
       "       [ 0.9586695 ,  0.41639263],\n",
       "       [-0.2161129 , -0.51574768],\n",
       "       [ 1.58161095, -1.03822348],\n",
       "       [ 1.14947162,  0.20406141],\n",
       "       [-1.61633396,  1.0136478 ],\n",
       "       [-0.08502552, -0.56014237],\n",
       "       [-0.03414625, -0.41168525],\n",
       "       [-0.7982734 , -1.55589071],\n",
       "       [ 0.35746446,  0.71090746],\n",
       "       [-0.98160583, -0.19190947],\n",
       "       [-2.18923169, -0.41810774],\n",
       "       [ 0.59495105, -0.0456623 ],\n",
       "       [-1.0803227 , -0.69851114],\n",
       "       [ 0.63891316,  1.73992893]])"
      ]
     },
     "execution_count": 29,
     "metadata": {},
     "output_type": "execute_result"
    }
   ],
   "source": [
    "x_train"
   ]
  },
  {
   "cell_type": "code",
   "execution_count": 30,
   "id": "adaa3154",
   "metadata": {},
   "outputs": [],
   "source": [
    "from sklearn.linear_model import LinearRegression"
   ]
  },
  {
   "cell_type": "code",
   "execution_count": 31,
   "id": "9f00e52b",
   "metadata": {},
   "outputs": [],
   "source": [
    "obj=LinearRegression()"
   ]
  },
  {
   "cell_type": "code",
   "execution_count": 32,
   "id": "4b7c85d2",
   "metadata": {},
   "outputs": [
    {
     "data": {
      "text/html": [
       "<style>#sk-container-id-2 {color: black;}#sk-container-id-2 pre{padding: 0;}#sk-container-id-2 div.sk-toggleable {background-color: white;}#sk-container-id-2 label.sk-toggleable__label {cursor: pointer;display: block;width: 100%;margin-bottom: 0;padding: 0.3em;box-sizing: border-box;text-align: center;}#sk-container-id-2 label.sk-toggleable__label-arrow:before {content: \"▸\";float: left;margin-right: 0.25em;color: #696969;}#sk-container-id-2 label.sk-toggleable__label-arrow:hover:before {color: black;}#sk-container-id-2 div.sk-estimator:hover label.sk-toggleable__label-arrow:before {color: black;}#sk-container-id-2 div.sk-toggleable__content {max-height: 0;max-width: 0;overflow: hidden;text-align: left;background-color: #f0f8ff;}#sk-container-id-2 div.sk-toggleable__content pre {margin: 0.2em;color: black;border-radius: 0.25em;background-color: #f0f8ff;}#sk-container-id-2 input.sk-toggleable__control:checked~div.sk-toggleable__content {max-height: 200px;max-width: 100%;overflow: auto;}#sk-container-id-2 input.sk-toggleable__control:checked~label.sk-toggleable__label-arrow:before {content: \"▾\";}#sk-container-id-2 div.sk-estimator input.sk-toggleable__control:checked~label.sk-toggleable__label {background-color: #d4ebff;}#sk-container-id-2 div.sk-label input.sk-toggleable__control:checked~label.sk-toggleable__label {background-color: #d4ebff;}#sk-container-id-2 input.sk-hidden--visually {border: 0;clip: rect(1px 1px 1px 1px);clip: rect(1px, 1px, 1px, 1px);height: 1px;margin: -1px;overflow: hidden;padding: 0;position: absolute;width: 1px;}#sk-container-id-2 div.sk-estimator {font-family: monospace;background-color: #f0f8ff;border: 1px dotted black;border-radius: 0.25em;box-sizing: border-box;margin-bottom: 0.5em;}#sk-container-id-2 div.sk-estimator:hover {background-color: #d4ebff;}#sk-container-id-2 div.sk-parallel-item::after {content: \"\";width: 100%;border-bottom: 1px solid gray;flex-grow: 1;}#sk-container-id-2 div.sk-label:hover label.sk-toggleable__label {background-color: #d4ebff;}#sk-container-id-2 div.sk-serial::before {content: \"\";position: absolute;border-left: 1px solid gray;box-sizing: border-box;top: 0;bottom: 0;left: 50%;z-index: 0;}#sk-container-id-2 div.sk-serial {display: flex;flex-direction: column;align-items: center;background-color: white;padding-right: 0.2em;padding-left: 0.2em;position: relative;}#sk-container-id-2 div.sk-item {position: relative;z-index: 1;}#sk-container-id-2 div.sk-parallel {display: flex;align-items: stretch;justify-content: center;background-color: white;position: relative;}#sk-container-id-2 div.sk-item::before, #sk-container-id-2 div.sk-parallel-item::before {content: \"\";position: absolute;border-left: 1px solid gray;box-sizing: border-box;top: 0;bottom: 0;left: 50%;z-index: -1;}#sk-container-id-2 div.sk-parallel-item {display: flex;flex-direction: column;z-index: 1;position: relative;background-color: white;}#sk-container-id-2 div.sk-parallel-item:first-child::after {align-self: flex-end;width: 50%;}#sk-container-id-2 div.sk-parallel-item:last-child::after {align-self: flex-start;width: 50%;}#sk-container-id-2 div.sk-parallel-item:only-child::after {width: 0;}#sk-container-id-2 div.sk-dashed-wrapped {border: 1px dashed gray;margin: 0 0.4em 0.5em 0.4em;box-sizing: border-box;padding-bottom: 0.4em;background-color: white;}#sk-container-id-2 div.sk-label label {font-family: monospace;font-weight: bold;display: inline-block;line-height: 1.2em;}#sk-container-id-2 div.sk-label-container {text-align: center;}#sk-container-id-2 div.sk-container {/* jupyter's `normalize.less` sets `[hidden] { display: none; }` but bootstrap.min.css set `[hidden] { display: none !important; }` so we also need the `!important` here to be able to override the default hidden behavior on the sphinx rendered scikit-learn.org. See: https://github.com/scikit-learn/scikit-learn/issues/21755 */display: inline-block !important;position: relative;}#sk-container-id-2 div.sk-text-repr-fallback {display: none;}</style><div id=\"sk-container-id-2\" class=\"sk-top-container\"><div class=\"sk-text-repr-fallback\"><pre>LinearRegression()</pre><b>In a Jupyter environment, please rerun this cell to show the HTML representation or trust the notebook. <br />On GitHub, the HTML representation is unable to render, please try loading this page with nbviewer.org.</b></div><div class=\"sk-container\" hidden><div class=\"sk-item\"><div class=\"sk-estimator sk-toggleable\"><input class=\"sk-toggleable__control sk-hidden--visually\" id=\"sk-estimator-id-2\" type=\"checkbox\" checked><label for=\"sk-estimator-id-2\" class=\"sk-toggleable__label sk-toggleable__label-arrow\">LinearRegression</label><div class=\"sk-toggleable__content\"><pre>LinearRegression()</pre></div></div></div></div></div>"
      ],
      "text/plain": [
       "LinearRegression()"
      ]
     },
     "execution_count": 32,
     "metadata": {},
     "output_type": "execute_result"
    }
   ],
   "source": [
    "obj.fit(x_train,y_train)"
   ]
  },
  {
   "cell_type": "code",
   "execution_count": 33,
   "id": "e5f83e12",
   "metadata": {},
   "outputs": [],
   "source": [
    "m=obj.coef_"
   ]
  },
  {
   "cell_type": "code",
   "execution_count": 34,
   "id": "45e5dca8",
   "metadata": {},
   "outputs": [
    {
     "data": {
      "text/plain": [
       "array([41.62998026, 41.49091428])"
      ]
     },
     "execution_count": 34,
     "metadata": {},
     "output_type": "execute_result"
    }
   ],
   "source": [
    "m"
   ]
  },
  {
   "cell_type": "code",
   "execution_count": 35,
   "id": "2c561b68",
   "metadata": {},
   "outputs": [],
   "source": [
    "b=obj.intercept_"
   ]
  },
  {
   "cell_type": "code",
   "execution_count": 36,
   "id": "3cd8fd81",
   "metadata": {},
   "outputs": [
    {
     "data": {
      "text/plain": [
       "1.7763568394002505e-15"
      ]
     },
     "execution_count": 36,
     "metadata": {},
     "output_type": "execute_result"
    }
   ],
   "source": [
    "b"
   ]
  },
  {
   "cell_type": "code",
   "execution_count": 37,
   "id": "64a642b5",
   "metadata": {},
   "outputs": [
    {
     "data": {
      "text/plain": [
       "array([[-1.10714788,  1.407745  ],\n",
       "       [-0.05479794,  1.92096784],\n",
       "       [ 0.5900554 , -0.41801186],\n",
       "       [ 1.7532106 ,  0.6316588 ],\n",
       "       [-0.43432782, -0.5957286 ],\n",
       "       [ 0.15591098, -0.14572696],\n",
       "       [-0.31436942,  0.86025251],\n",
       "       [ 0.34433166, -0.00756252],\n",
       "       [ 1.01894397,  1.43485736],\n",
       "       [-0.15771813, -0.91013893],\n",
       "       [-0.03550946, -0.20336185],\n",
       "       [ 0.55858063,  1.03965427],\n",
       "       [ 0.00474228, -1.17627484],\n",
       "       [-1.51743365,  1.27024917],\n",
       "       [ 1.42280054,  0.60435518],\n",
       "       [ 0.14069411, -0.85464562],\n",
       "       [ 1.49267868,  0.17480582],\n",
       "       [ 0.47626974,  0.4296907 ],\n",
       "       [ 1.50775167, -0.07099229],\n",
       "       [ 0.38558397, -0.04230908]])"
      ]
     },
     "execution_count": 37,
     "metadata": {},
     "output_type": "execute_result"
    }
   ],
   "source": [
    "x_test"
   ]
  },
  {
   "cell_type": "code",
   "execution_count": 38,
   "id": "9d68a1fa",
   "metadata": {},
   "outputs": [
    {
     "data": {
      "text/plain": [
       "array([ 12.31808293,  77.42147453,   7.22030022,  99.1942239 ,\n",
       "       -42.79838279,   0.44422638,  22.60547003,  14.02074433,\n",
       "       101.95216092, -44.32829906,  -9.9159273 ,  66.38990703,\n",
       "       -48.6072972 , -10.46693333,  84.30640722, -29.60293541,\n",
       "        69.39303702,  37.65536012,  59.82213724,  14.29641066])"
      ]
     },
     "execution_count": 38,
     "metadata": {},
     "output_type": "execute_result"
    }
   ],
   "source": [
    "y_test"
   ]
  },
  {
   "cell_type": "code",
   "execution_count": 39,
   "id": "441778d7",
   "metadata": {},
   "outputs": [],
   "source": [
    "y=b+(59.80285499*-0.50521247)+(59.13749864*-0.53380014)"
   ]
  },
  {
   "cell_type": "code",
   "execution_count": 40,
   "id": "6df5f2f4",
   "metadata": {},
   "outputs": [
    {
     "data": {
      "text/plain": [
       "-61.78075313583153"
      ]
     },
     "execution_count": 40,
     "metadata": {},
     "output_type": "execute_result"
    }
   ],
   "source": [
    "y"
   ]
  },
  {
   "cell_type": "code",
   "execution_count": 41,
   "id": "f731dddc",
   "metadata": {},
   "outputs": [],
   "source": [
    "graph=px.scatter_3d(data,x=\"feature1\",y=\"feature2\",z=\"target\")"
   ]
  },
  {
   "cell_type": "code",
   "execution_count": 42,
   "id": "a463b8ff",
   "metadata": {},
   "outputs": [
    {
     "data": {
      "application/vnd.plotly.v1+json": {
       "config": {
        "plotlyServerURL": "https://plot.ly"
       },
       "data": [
        {
         "hovertemplate": "feature1=%{x}<br>feature2=%{y}<br>target=%{z}<extra></extra>",
         "legendgroup": "",
         "marker": {
          "color": "#636efa",
          "symbol": "circle"
         },
         "mode": "markers",
         "name": "",
         "scene": "scene",
         "showlegend": false,
         "type": "scatter3d",
         "x": [
          0.004742284001917562,
          -0.8356582866306284,
          -0.8406011933869494,
          0.9586695000206483,
          -2.018800846130519,
          -2.621891680840977,
          -1.596681719323941,
          1.5648510263193425,
          0.24292736098957943,
          -0.3058410700669254,
          -0.08502551940016104,
          -1.3390156844414616,
          1.0189439705164194,
          -1.5755351251045597,
          -0.8516283368651284,
          -1.5174336454873418,
          0.1559109810262046,
          1.4403214990238522,
          0.5949510542322277,
          1.7532105998899667,
          -0.34901885977820984,
          0.3229860064209929,
          -1.1071478757218516,
          -0.15771812977449334,
          1.5077516721587645,
          -0.38189488257248655,
          -0.05482022352978433,
          -0.6000452390956883,
          -0.058984602561526406,
          -2.384173651971554,
          0.38558397055710486,
          -0.3143694249038145,
          0.7544683671238958,
          0.35746446138932203,
          0.8343578865463002,
          -1.6163339635003864,
          1.1494716184756748,
          -1.1547506354366326,
          -1.080322702955673,
          1.5816109545875612,
          0.9277053334706059,
          -0.6743216347695161,
          1.2055046792864672,
          0.12059142917054366,
          0.3372863055543947,
          -0.035509463699666594,
          0.088990674714701,
          0.12369588197011175,
          -0.2534423879843721,
          -0.20973072766931625,
          0.9443969667333483,
          1.9267991602788423,
          -0.2067130401155453,
          -0.4343278182191013,
          2.431338391526807,
          -0.7982733957951929,
          -0.9449843053000183,
          0.558580634346489,
          -0.18765368576686078,
          0.34433166258557846,
          0.049534165412323125,
          -1.1398435734499845,
          -1.0435081647286124,
          0.6389131608733015,
          0.0955462004731192,
          0.1406941067699106,
          -1.4759781703929573,
          -0.27396758044855524,
          -0.05156246140895805,
          1.4926786752118752,
          -1.1410443284860377,
          -2.189231691558231,
          -0.65566954010264,
          -0.03414624690767924,
          -1.3062803105119583,
          -2.2951599614855596,
          -0.4687544616175868,
          -0.21611290304949338,
          -0.2089043681690278,
          0.08663181500881471,
          -0.5894425179109998,
          -0.05479794445365811,
          1.518812961053512,
          1.4228005402653396,
          0.5900553983591472,
          -0.6012932655489348,
          -1.7427574293156427,
          -0.7419382961342827,
          -0.9816058294226646,
          -1.4912646888498806,
          -0.23979240832713897,
          -1.225675825930051,
          0.6674377385966214,
          -1.3764508633299715,
          0.4762697430785866,
          -0.04511424927318804,
          0.11810219174150685,
          -1.1958623644129829,
          0.8021218108248775,
          0.8225337095293911
         ],
         "y": [
          -1.176274835873546,
          -1.0613570875841483,
          -0.687053254061014,
          0.4163926333834733,
          0.833875018020456,
          0.7426849077534105,
          0.32204444583264646,
          -1.7351025768623844,
          -1.3872491875834694,
          1.5038040569060636,
          -0.5601423662451079,
          -1.1300483445649772,
          1.4348573555626738,
          -0.5800462705896142,
          -1.4303234208312376,
          1.2702491687262898,
          -0.14572695689859788,
          -0.036241208103322105,
          -0.04566230061691985,
          0.6316588026872362,
          0.09286814021355819,
          -1.001462030378719,
          1.4077450001728338,
          -0.9101389324461744,
          -0.07099229210977889,
          -1.6825631954271478,
          0.26429204946471485,
          -0.380979786927557,
          -0.3988734034272697,
          0.5729757053812351,
          -0.04230908024376315,
          0.8602525057504763,
          0.5861944868242481,
          0.71090745643082,
          -0.6179036328138533,
          1.013647801780801,
          0.2040614062377062,
          1.1756128112490671,
          -0.698511135220755,
          -1.03822347632479,
          -0.8966342413255358,
          0.2746731736153423,
          -0.010377630618808226,
          0.7456411538136375,
          0.6985932402940268,
          -0.2033618486528704,
          0.22556141968369842,
          0.8781113314878524,
          0.07878468301551689,
          0.9510533316344604,
          -0.612701745402359,
          -0.880153831040224,
          -0.045519041360497184,
          -0.5957286003714681,
          -0.850764753315659,
          -1.5558907088364482,
          0.8693023206531242,
          1.039654271148818,
          0.2674076225193418,
          -0.007562522799264612,
          0.1682822432555396,
          0.9994084762439628,
          -0.02740969196282516,
          1.7399289307312453,
          2.185054466979024,
          -0.8546456232444277,
          1.6237168616983235,
          1.5785119596159733,
          1.9246601719917944,
          0.1748058187155658,
          0.10006883227732084,
          -0.4181077386034237,
          0.7688218319427294,
          -0.4116852546065583,
          0.9785647326722933,
          1.598827291522812,
          0.41103903046402124,
          -0.5157476788163622,
          -1.9180297924596599,
          -1.8726646860387122,
          -1.9222924219645279,
          1.920967837313781,
          0.6625201577954809,
          0.6043551762976859,
          -0.41801186280692254,
          1.7051246410455543,
          0.03069051100578694,
          0.7698620925613556,
          -0.19190946991495217,
          -1.524993721911371,
          1.442996282826407,
          -0.4609165180378388,
          0.7112397184976226,
          -1.3294981170466966,
          0.4296907028833886,
          -1.0853571153538044,
          0.4670317651082339,
          1.6162693539852653,
          -0.19070443780972704,
          0.17120726747869322
         ],
         "z": [
          -48.60729719896437,
          -78.82511391864101,
          -63.500678756857866,
          57.18590341873139,
          -49.44440247221704,
          -78.33462306302013,
          -53.107909955094044,
          -6.8462749575403725,
          -47.44517588910196,
          49.66204751462377,
          -26.78042959806828,
          -102.62993550717313,
          101.95216092355511,
          -89.65614624569297,
          -94.79869730063251,
          -10.466933325656836,
          0.44422638460969915,
          58.45687470939409,
          22.873230040804724,
          99.19422389837469,
          -10.676464196729963,
          -28.105674189359508,
          12.318082926273522,
          -44.32829906034348,
          59.822137237987896,
          -85.70936173879709,
          8.683553946749482,
          -40.787071139873746,
          -19.005150031433853,
          -75.47981618305641,
          14.296410659985757,
          22.605470025527154,
          55.730248433936495,
          44.37743880810295,
          9.096915680163267,
          -25.230776932771207,
          56.31917509795351,
          0.7050042262278506,
          -73.95567843248116,
          22.76559155131272,
          1.418180266904627,
          -16.675555240145812,
          49.754558616137714,
          35.957552014221044,
          43.026494492876616,
          -9.915927303623494,
          13.06342956106484,
          41.58309910989506,
          -7.2819530783146265,
          30.728986209100697,
          13.893671480564938,
          43.69422384247025,
          -10.494086422233638,
          -42.798382791466494,
          65.91756178300538,
          -97.78743374062739,
          -3.2715299008324847,
          66.3899070279384,
          3.2829675108821905,
          14.020744330123941,
          9.044290458415949,
          -5.985294037544474,
          -44.578477475580584,
          98.78918439646435,
          94.63749403219269,
          -29.60293540914383,
          5.924555034943315,
          54.08863944575372,
          77.7093659693194,
          69.39303701982097,
          -43.34970552500479,
          -108.48534444130789,
          4.603610718252562,
          -18.502705195028913,
          -13.778878093365996,
          -29.210657777951422,
          -2.459853802692075,
          -30.395618620630586,
          -88.27749443346363,
          -74.09208922055019,
          -104.29615048972188,
          77.42147453241702,
          90.71672066073933,
          84.30640721729587,
          7.220300215369275,
          45.71535354968592,
          -71.27758001397932,
          1.055405472005341,
          -48.826730665486764,
          -125.35470335276584,
          49.88868185679074,
          -70.1487081766101,
          57.295406075421226,
          -112.46371467900376,
          37.65536012292637,
          -46.91056434601771,
          24.294166844013386,
          17.276766603462764,
          25.47981366594386,
          41.34560814811655
         ]
        }
       ],
       "layout": {
        "legend": {
         "tracegroupgap": 0
        },
        "margin": {
         "t": 60
        },
        "scene": {
         "domain": {
          "x": [
           0,
           1
          ],
          "y": [
           0,
           1
          ]
         },
         "xaxis": {
          "title": {
           "text": "feature1"
          }
         },
         "yaxis": {
          "title": {
           "text": "feature2"
          }
         },
         "zaxis": {
          "title": {
           "text": "target"
          }
         }
        },
        "template": {
         "data": {
          "bar": [
           {
            "error_x": {
             "color": "#2a3f5f"
            },
            "error_y": {
             "color": "#2a3f5f"
            },
            "marker": {
             "line": {
              "color": "#E5ECF6",
              "width": 0.5
             },
             "pattern": {
              "fillmode": "overlay",
              "size": 10,
              "solidity": 0.2
             }
            },
            "type": "bar"
           }
          ],
          "barpolar": [
           {
            "marker": {
             "line": {
              "color": "#E5ECF6",
              "width": 0.5
             },
             "pattern": {
              "fillmode": "overlay",
              "size": 10,
              "solidity": 0.2
             }
            },
            "type": "barpolar"
           }
          ],
          "carpet": [
           {
            "aaxis": {
             "endlinecolor": "#2a3f5f",
             "gridcolor": "white",
             "linecolor": "white",
             "minorgridcolor": "white",
             "startlinecolor": "#2a3f5f"
            },
            "baxis": {
             "endlinecolor": "#2a3f5f",
             "gridcolor": "white",
             "linecolor": "white",
             "minorgridcolor": "white",
             "startlinecolor": "#2a3f5f"
            },
            "type": "carpet"
           }
          ],
          "choropleth": [
           {
            "colorbar": {
             "outlinewidth": 0,
             "ticks": ""
            },
            "type": "choropleth"
           }
          ],
          "contour": [
           {
            "colorbar": {
             "outlinewidth": 0,
             "ticks": ""
            },
            "colorscale": [
             [
              0,
              "#0d0887"
             ],
             [
              0.1111111111111111,
              "#46039f"
             ],
             [
              0.2222222222222222,
              "#7201a8"
             ],
             [
              0.3333333333333333,
              "#9c179e"
             ],
             [
              0.4444444444444444,
              "#bd3786"
             ],
             [
              0.5555555555555556,
              "#d8576b"
             ],
             [
              0.6666666666666666,
              "#ed7953"
             ],
             [
              0.7777777777777778,
              "#fb9f3a"
             ],
             [
              0.8888888888888888,
              "#fdca26"
             ],
             [
              1,
              "#f0f921"
             ]
            ],
            "type": "contour"
           }
          ],
          "contourcarpet": [
           {
            "colorbar": {
             "outlinewidth": 0,
             "ticks": ""
            },
            "type": "contourcarpet"
           }
          ],
          "heatmap": [
           {
            "colorbar": {
             "outlinewidth": 0,
             "ticks": ""
            },
            "colorscale": [
             [
              0,
              "#0d0887"
             ],
             [
              0.1111111111111111,
              "#46039f"
             ],
             [
              0.2222222222222222,
              "#7201a8"
             ],
             [
              0.3333333333333333,
              "#9c179e"
             ],
             [
              0.4444444444444444,
              "#bd3786"
             ],
             [
              0.5555555555555556,
              "#d8576b"
             ],
             [
              0.6666666666666666,
              "#ed7953"
             ],
             [
              0.7777777777777778,
              "#fb9f3a"
             ],
             [
              0.8888888888888888,
              "#fdca26"
             ],
             [
              1,
              "#f0f921"
             ]
            ],
            "type": "heatmap"
           }
          ],
          "heatmapgl": [
           {
            "colorbar": {
             "outlinewidth": 0,
             "ticks": ""
            },
            "colorscale": [
             [
              0,
              "#0d0887"
             ],
             [
              0.1111111111111111,
              "#46039f"
             ],
             [
              0.2222222222222222,
              "#7201a8"
             ],
             [
              0.3333333333333333,
              "#9c179e"
             ],
             [
              0.4444444444444444,
              "#bd3786"
             ],
             [
              0.5555555555555556,
              "#d8576b"
             ],
             [
              0.6666666666666666,
              "#ed7953"
             ],
             [
              0.7777777777777778,
              "#fb9f3a"
             ],
             [
              0.8888888888888888,
              "#fdca26"
             ],
             [
              1,
              "#f0f921"
             ]
            ],
            "type": "heatmapgl"
           }
          ],
          "histogram": [
           {
            "marker": {
             "pattern": {
              "fillmode": "overlay",
              "size": 10,
              "solidity": 0.2
             }
            },
            "type": "histogram"
           }
          ],
          "histogram2d": [
           {
            "colorbar": {
             "outlinewidth": 0,
             "ticks": ""
            },
            "colorscale": [
             [
              0,
              "#0d0887"
             ],
             [
              0.1111111111111111,
              "#46039f"
             ],
             [
              0.2222222222222222,
              "#7201a8"
             ],
             [
              0.3333333333333333,
              "#9c179e"
             ],
             [
              0.4444444444444444,
              "#bd3786"
             ],
             [
              0.5555555555555556,
              "#d8576b"
             ],
             [
              0.6666666666666666,
              "#ed7953"
             ],
             [
              0.7777777777777778,
              "#fb9f3a"
             ],
             [
              0.8888888888888888,
              "#fdca26"
             ],
             [
              1,
              "#f0f921"
             ]
            ],
            "type": "histogram2d"
           }
          ],
          "histogram2dcontour": [
           {
            "colorbar": {
             "outlinewidth": 0,
             "ticks": ""
            },
            "colorscale": [
             [
              0,
              "#0d0887"
             ],
             [
              0.1111111111111111,
              "#46039f"
             ],
             [
              0.2222222222222222,
              "#7201a8"
             ],
             [
              0.3333333333333333,
              "#9c179e"
             ],
             [
              0.4444444444444444,
              "#bd3786"
             ],
             [
              0.5555555555555556,
              "#d8576b"
             ],
             [
              0.6666666666666666,
              "#ed7953"
             ],
             [
              0.7777777777777778,
              "#fb9f3a"
             ],
             [
              0.8888888888888888,
              "#fdca26"
             ],
             [
              1,
              "#f0f921"
             ]
            ],
            "type": "histogram2dcontour"
           }
          ],
          "mesh3d": [
           {
            "colorbar": {
             "outlinewidth": 0,
             "ticks": ""
            },
            "type": "mesh3d"
           }
          ],
          "parcoords": [
           {
            "line": {
             "colorbar": {
              "outlinewidth": 0,
              "ticks": ""
             }
            },
            "type": "parcoords"
           }
          ],
          "pie": [
           {
            "automargin": true,
            "type": "pie"
           }
          ],
          "scatter": [
           {
            "fillpattern": {
             "fillmode": "overlay",
             "size": 10,
             "solidity": 0.2
            },
            "type": "scatter"
           }
          ],
          "scatter3d": [
           {
            "line": {
             "colorbar": {
              "outlinewidth": 0,
              "ticks": ""
             }
            },
            "marker": {
             "colorbar": {
              "outlinewidth": 0,
              "ticks": ""
             }
            },
            "type": "scatter3d"
           }
          ],
          "scattercarpet": [
           {
            "marker": {
             "colorbar": {
              "outlinewidth": 0,
              "ticks": ""
             }
            },
            "type": "scattercarpet"
           }
          ],
          "scattergeo": [
           {
            "marker": {
             "colorbar": {
              "outlinewidth": 0,
              "ticks": ""
             }
            },
            "type": "scattergeo"
           }
          ],
          "scattergl": [
           {
            "marker": {
             "colorbar": {
              "outlinewidth": 0,
              "ticks": ""
             }
            },
            "type": "scattergl"
           }
          ],
          "scattermapbox": [
           {
            "marker": {
             "colorbar": {
              "outlinewidth": 0,
              "ticks": ""
             }
            },
            "type": "scattermapbox"
           }
          ],
          "scatterpolar": [
           {
            "marker": {
             "colorbar": {
              "outlinewidth": 0,
              "ticks": ""
             }
            },
            "type": "scatterpolar"
           }
          ],
          "scatterpolargl": [
           {
            "marker": {
             "colorbar": {
              "outlinewidth": 0,
              "ticks": ""
             }
            },
            "type": "scatterpolargl"
           }
          ],
          "scatterternary": [
           {
            "marker": {
             "colorbar": {
              "outlinewidth": 0,
              "ticks": ""
             }
            },
            "type": "scatterternary"
           }
          ],
          "surface": [
           {
            "colorbar": {
             "outlinewidth": 0,
             "ticks": ""
            },
            "colorscale": [
             [
              0,
              "#0d0887"
             ],
             [
              0.1111111111111111,
              "#46039f"
             ],
             [
              0.2222222222222222,
              "#7201a8"
             ],
             [
              0.3333333333333333,
              "#9c179e"
             ],
             [
              0.4444444444444444,
              "#bd3786"
             ],
             [
              0.5555555555555556,
              "#d8576b"
             ],
             [
              0.6666666666666666,
              "#ed7953"
             ],
             [
              0.7777777777777778,
              "#fb9f3a"
             ],
             [
              0.8888888888888888,
              "#fdca26"
             ],
             [
              1,
              "#f0f921"
             ]
            ],
            "type": "surface"
           }
          ],
          "table": [
           {
            "cells": {
             "fill": {
              "color": "#EBF0F8"
             },
             "line": {
              "color": "white"
             }
            },
            "header": {
             "fill": {
              "color": "#C8D4E3"
             },
             "line": {
              "color": "white"
             }
            },
            "type": "table"
           }
          ]
         },
         "layout": {
          "annotationdefaults": {
           "arrowcolor": "#2a3f5f",
           "arrowhead": 0,
           "arrowwidth": 1
          },
          "autotypenumbers": "strict",
          "coloraxis": {
           "colorbar": {
            "outlinewidth": 0,
            "ticks": ""
           }
          },
          "colorscale": {
           "diverging": [
            [
             0,
             "#8e0152"
            ],
            [
             0.1,
             "#c51b7d"
            ],
            [
             0.2,
             "#de77ae"
            ],
            [
             0.3,
             "#f1b6da"
            ],
            [
             0.4,
             "#fde0ef"
            ],
            [
             0.5,
             "#f7f7f7"
            ],
            [
             0.6,
             "#e6f5d0"
            ],
            [
             0.7,
             "#b8e186"
            ],
            [
             0.8,
             "#7fbc41"
            ],
            [
             0.9,
             "#4d9221"
            ],
            [
             1,
             "#276419"
            ]
           ],
           "sequential": [
            [
             0,
             "#0d0887"
            ],
            [
             0.1111111111111111,
             "#46039f"
            ],
            [
             0.2222222222222222,
             "#7201a8"
            ],
            [
             0.3333333333333333,
             "#9c179e"
            ],
            [
             0.4444444444444444,
             "#bd3786"
            ],
            [
             0.5555555555555556,
             "#d8576b"
            ],
            [
             0.6666666666666666,
             "#ed7953"
            ],
            [
             0.7777777777777778,
             "#fb9f3a"
            ],
            [
             0.8888888888888888,
             "#fdca26"
            ],
            [
             1,
             "#f0f921"
            ]
           ],
           "sequentialminus": [
            [
             0,
             "#0d0887"
            ],
            [
             0.1111111111111111,
             "#46039f"
            ],
            [
             0.2222222222222222,
             "#7201a8"
            ],
            [
             0.3333333333333333,
             "#9c179e"
            ],
            [
             0.4444444444444444,
             "#bd3786"
            ],
            [
             0.5555555555555556,
             "#d8576b"
            ],
            [
             0.6666666666666666,
             "#ed7953"
            ],
            [
             0.7777777777777778,
             "#fb9f3a"
            ],
            [
             0.8888888888888888,
             "#fdca26"
            ],
            [
             1,
             "#f0f921"
            ]
           ]
          },
          "colorway": [
           "#636efa",
           "#EF553B",
           "#00cc96",
           "#ab63fa",
           "#FFA15A",
           "#19d3f3",
           "#FF6692",
           "#B6E880",
           "#FF97FF",
           "#FECB52"
          ],
          "font": {
           "color": "#2a3f5f"
          },
          "geo": {
           "bgcolor": "white",
           "lakecolor": "white",
           "landcolor": "#E5ECF6",
           "showlakes": true,
           "showland": true,
           "subunitcolor": "white"
          },
          "hoverlabel": {
           "align": "left"
          },
          "hovermode": "closest",
          "mapbox": {
           "style": "light"
          },
          "paper_bgcolor": "white",
          "plot_bgcolor": "#E5ECF6",
          "polar": {
           "angularaxis": {
            "gridcolor": "white",
            "linecolor": "white",
            "ticks": ""
           },
           "bgcolor": "#E5ECF6",
           "radialaxis": {
            "gridcolor": "white",
            "linecolor": "white",
            "ticks": ""
           }
          },
          "scene": {
           "xaxis": {
            "backgroundcolor": "#E5ECF6",
            "gridcolor": "white",
            "gridwidth": 2,
            "linecolor": "white",
            "showbackground": true,
            "ticks": "",
            "zerolinecolor": "white"
           },
           "yaxis": {
            "backgroundcolor": "#E5ECF6",
            "gridcolor": "white",
            "gridwidth": 2,
            "linecolor": "white",
            "showbackground": true,
            "ticks": "",
            "zerolinecolor": "white"
           },
           "zaxis": {
            "backgroundcolor": "#E5ECF6",
            "gridcolor": "white",
            "gridwidth": 2,
            "linecolor": "white",
            "showbackground": true,
            "ticks": "",
            "zerolinecolor": "white"
           }
          },
          "shapedefaults": {
           "line": {
            "color": "#2a3f5f"
           }
          },
          "ternary": {
           "aaxis": {
            "gridcolor": "white",
            "linecolor": "white",
            "ticks": ""
           },
           "baxis": {
            "gridcolor": "white",
            "linecolor": "white",
            "ticks": ""
           },
           "bgcolor": "#E5ECF6",
           "caxis": {
            "gridcolor": "white",
            "linecolor": "white",
            "ticks": ""
           }
          },
          "title": {
           "x": 0.05
          },
          "xaxis": {
           "automargin": true,
           "gridcolor": "white",
           "linecolor": "white",
           "ticks": "",
           "title": {
            "standoff": 15
           },
           "zerolinecolor": "white",
           "zerolinewidth": 2
          },
          "yaxis": {
           "automargin": true,
           "gridcolor": "white",
           "linecolor": "white",
           "ticks": "",
           "title": {
            "standoff": 15
           },
           "zerolinecolor": "white",
           "zerolinewidth": 2
          }
         }
        }
       }
      },
      "text/html": [
       "<div>                            <div id=\"777f38da-e776-48ab-b606-35b382982c24\" class=\"plotly-graph-div\" style=\"height:525px; width:100%;\"></div>            <script type=\"text/javascript\">                require([\"plotly\"], function(Plotly) {                    window.PLOTLYENV=window.PLOTLYENV || {};                                    if (document.getElementById(\"777f38da-e776-48ab-b606-35b382982c24\")) {                    Plotly.newPlot(                        \"777f38da-e776-48ab-b606-35b382982c24\",                        [{\"hovertemplate\":\"feature1=%{x}\\u003cbr\\u003efeature2=%{y}\\u003cbr\\u003etarget=%{z}\\u003cextra\\u003e\\u003c\\u002fextra\\u003e\",\"legendgroup\":\"\",\"marker\":{\"color\":\"#636efa\",\"symbol\":\"circle\"},\"mode\":\"markers\",\"name\":\"\",\"scene\":\"scene\",\"showlegend\":false,\"x\":[0.004742284001917562,-0.8356582866306284,-0.8406011933869494,0.9586695000206483,-2.018800846130519,-2.621891680840977,-1.596681719323941,1.5648510263193425,0.24292736098957943,-0.3058410700669254,-0.08502551940016104,-1.3390156844414616,1.0189439705164194,-1.5755351251045597,-0.8516283368651284,-1.5174336454873418,0.1559109810262046,1.4403214990238522,0.5949510542322277,1.7532105998899667,-0.34901885977820984,0.3229860064209929,-1.1071478757218516,-0.15771812977449334,1.5077516721587645,-0.38189488257248655,-0.05482022352978433,-0.6000452390956883,-0.058984602561526406,-2.384173651971554,0.38558397055710486,-0.3143694249038145,0.7544683671238958,0.35746446138932203,0.8343578865463002,-1.6163339635003864,1.1494716184756748,-1.1547506354366326,-1.080322702955673,1.5816109545875612,0.9277053334706059,-0.6743216347695161,1.2055046792864672,0.12059142917054366,0.3372863055543947,-0.035509463699666594,0.088990674714701,0.12369588197011175,-0.2534423879843721,-0.20973072766931625,0.9443969667333483,1.9267991602788423,-0.2067130401155453,-0.4343278182191013,2.431338391526807,-0.7982733957951929,-0.9449843053000183,0.558580634346489,-0.18765368576686078,0.34433166258557846,0.049534165412323125,-1.1398435734499845,-1.0435081647286124,0.6389131608733015,0.0955462004731192,0.1406941067699106,-1.4759781703929573,-0.27396758044855524,-0.05156246140895805,1.4926786752118752,-1.1410443284860377,-2.189231691558231,-0.65566954010264,-0.03414624690767924,-1.3062803105119583,-2.2951599614855596,-0.4687544616175868,-0.21611290304949338,-0.2089043681690278,0.08663181500881471,-0.5894425179109998,-0.05479794445365811,1.518812961053512,1.4228005402653396,0.5900553983591472,-0.6012932655489348,-1.7427574293156427,-0.7419382961342827,-0.9816058294226646,-1.4912646888498806,-0.23979240832713897,-1.225675825930051,0.6674377385966214,-1.3764508633299715,0.4762697430785866,-0.04511424927318804,0.11810219174150685,-1.1958623644129829,0.8021218108248775,0.8225337095293911],\"y\":[-1.176274835873546,-1.0613570875841483,-0.687053254061014,0.4163926333834733,0.833875018020456,0.7426849077534105,0.32204444583264646,-1.7351025768623844,-1.3872491875834694,1.5038040569060636,-0.5601423662451079,-1.1300483445649772,1.4348573555626738,-0.5800462705896142,-1.4303234208312376,1.2702491687262898,-0.14572695689859788,-0.036241208103322105,-0.04566230061691985,0.6316588026872362,0.09286814021355819,-1.001462030378719,1.4077450001728338,-0.9101389324461744,-0.07099229210977889,-1.6825631954271478,0.26429204946471485,-0.380979786927557,-0.3988734034272697,0.5729757053812351,-0.04230908024376315,0.8602525057504763,0.5861944868242481,0.71090745643082,-0.6179036328138533,1.013647801780801,0.2040614062377062,1.1756128112490671,-0.698511135220755,-1.03822347632479,-0.8966342413255358,0.2746731736153423,-0.010377630618808226,0.7456411538136375,0.6985932402940268,-0.2033618486528704,0.22556141968369842,0.8781113314878524,0.07878468301551689,0.9510533316344604,-0.612701745402359,-0.880153831040224,-0.045519041360497184,-0.5957286003714681,-0.850764753315659,-1.5558907088364482,0.8693023206531242,1.039654271148818,0.2674076225193418,-0.007562522799264612,0.1682822432555396,0.9994084762439628,-0.02740969196282516,1.7399289307312453,2.185054466979024,-0.8546456232444277,1.6237168616983235,1.5785119596159733,1.9246601719917944,0.1748058187155658,0.10006883227732084,-0.4181077386034237,0.7688218319427294,-0.4116852546065583,0.9785647326722933,1.598827291522812,0.41103903046402124,-0.5157476788163622,-1.9180297924596599,-1.8726646860387122,-1.9222924219645279,1.920967837313781,0.6625201577954809,0.6043551762976859,-0.41801186280692254,1.7051246410455543,0.03069051100578694,0.7698620925613556,-0.19190946991495217,-1.524993721911371,1.442996282826407,-0.4609165180378388,0.7112397184976226,-1.3294981170466966,0.4296907028833886,-1.0853571153538044,0.4670317651082339,1.6162693539852653,-0.19070443780972704,0.17120726747869322],\"z\":[-48.60729719896437,-78.82511391864101,-63.500678756857866,57.18590341873139,-49.44440247221704,-78.33462306302013,-53.107909955094044,-6.8462749575403725,-47.44517588910196,49.66204751462377,-26.78042959806828,-102.62993550717313,101.95216092355511,-89.65614624569297,-94.79869730063251,-10.466933325656836,0.44422638460969915,58.45687470939409,22.873230040804724,99.19422389837469,-10.676464196729963,-28.105674189359508,12.318082926273522,-44.32829906034348,59.822137237987896,-85.70936173879709,8.683553946749482,-40.787071139873746,-19.005150031433853,-75.47981618305641,14.296410659985757,22.605470025527154,55.730248433936495,44.37743880810295,9.096915680163267,-25.230776932771207,56.31917509795351,0.7050042262278506,-73.95567843248116,22.76559155131272,1.418180266904627,-16.675555240145812,49.754558616137714,35.957552014221044,43.026494492876616,-9.915927303623494,13.06342956106484,41.58309910989506,-7.2819530783146265,30.728986209100697,13.893671480564938,43.69422384247025,-10.494086422233638,-42.798382791466494,65.91756178300538,-97.78743374062739,-3.2715299008324847,66.3899070279384,3.2829675108821905,14.020744330123941,9.044290458415949,-5.985294037544474,-44.578477475580584,98.78918439646435,94.63749403219269,-29.60293540914383,5.924555034943315,54.08863944575372,77.7093659693194,69.39303701982097,-43.34970552500479,-108.48534444130789,4.603610718252562,-18.502705195028913,-13.778878093365996,-29.210657777951422,-2.459853802692075,-30.395618620630586,-88.27749443346363,-74.09208922055019,-104.29615048972188,77.42147453241702,90.71672066073933,84.30640721729587,7.220300215369275,45.71535354968592,-71.27758001397932,1.055405472005341,-48.826730665486764,-125.35470335276584,49.88868185679074,-70.1487081766101,57.295406075421226,-112.46371467900376,37.65536012292637,-46.91056434601771,24.294166844013386,17.276766603462764,25.47981366594386,41.34560814811655],\"type\":\"scatter3d\"}],                        {\"template\":{\"data\":{\"histogram2dcontour\":[{\"type\":\"histogram2dcontour\",\"colorbar\":{\"outlinewidth\":0,\"ticks\":\"\"},\"colorscale\":[[0.0,\"#0d0887\"],[0.1111111111111111,\"#46039f\"],[0.2222222222222222,\"#7201a8\"],[0.3333333333333333,\"#9c179e\"],[0.4444444444444444,\"#bd3786\"],[0.5555555555555556,\"#d8576b\"],[0.6666666666666666,\"#ed7953\"],[0.7777777777777778,\"#fb9f3a\"],[0.8888888888888888,\"#fdca26\"],[1.0,\"#f0f921\"]]}],\"choropleth\":[{\"type\":\"choropleth\",\"colorbar\":{\"outlinewidth\":0,\"ticks\":\"\"}}],\"histogram2d\":[{\"type\":\"histogram2d\",\"colorbar\":{\"outlinewidth\":0,\"ticks\":\"\"},\"colorscale\":[[0.0,\"#0d0887\"],[0.1111111111111111,\"#46039f\"],[0.2222222222222222,\"#7201a8\"],[0.3333333333333333,\"#9c179e\"],[0.4444444444444444,\"#bd3786\"],[0.5555555555555556,\"#d8576b\"],[0.6666666666666666,\"#ed7953\"],[0.7777777777777778,\"#fb9f3a\"],[0.8888888888888888,\"#fdca26\"],[1.0,\"#f0f921\"]]}],\"heatmap\":[{\"type\":\"heatmap\",\"colorbar\":{\"outlinewidth\":0,\"ticks\":\"\"},\"colorscale\":[[0.0,\"#0d0887\"],[0.1111111111111111,\"#46039f\"],[0.2222222222222222,\"#7201a8\"],[0.3333333333333333,\"#9c179e\"],[0.4444444444444444,\"#bd3786\"],[0.5555555555555556,\"#d8576b\"],[0.6666666666666666,\"#ed7953\"],[0.7777777777777778,\"#fb9f3a\"],[0.8888888888888888,\"#fdca26\"],[1.0,\"#f0f921\"]]}],\"heatmapgl\":[{\"type\":\"heatmapgl\",\"colorbar\":{\"outlinewidth\":0,\"ticks\":\"\"},\"colorscale\":[[0.0,\"#0d0887\"],[0.1111111111111111,\"#46039f\"],[0.2222222222222222,\"#7201a8\"],[0.3333333333333333,\"#9c179e\"],[0.4444444444444444,\"#bd3786\"],[0.5555555555555556,\"#d8576b\"],[0.6666666666666666,\"#ed7953\"],[0.7777777777777778,\"#fb9f3a\"],[0.8888888888888888,\"#fdca26\"],[1.0,\"#f0f921\"]]}],\"contourcarpet\":[{\"type\":\"contourcarpet\",\"colorbar\":{\"outlinewidth\":0,\"ticks\":\"\"}}],\"contour\":[{\"type\":\"contour\",\"colorbar\":{\"outlinewidth\":0,\"ticks\":\"\"},\"colorscale\":[[0.0,\"#0d0887\"],[0.1111111111111111,\"#46039f\"],[0.2222222222222222,\"#7201a8\"],[0.3333333333333333,\"#9c179e\"],[0.4444444444444444,\"#bd3786\"],[0.5555555555555556,\"#d8576b\"],[0.6666666666666666,\"#ed7953\"],[0.7777777777777778,\"#fb9f3a\"],[0.8888888888888888,\"#fdca26\"],[1.0,\"#f0f921\"]]}],\"surface\":[{\"type\":\"surface\",\"colorbar\":{\"outlinewidth\":0,\"ticks\":\"\"},\"colorscale\":[[0.0,\"#0d0887\"],[0.1111111111111111,\"#46039f\"],[0.2222222222222222,\"#7201a8\"],[0.3333333333333333,\"#9c179e\"],[0.4444444444444444,\"#bd3786\"],[0.5555555555555556,\"#d8576b\"],[0.6666666666666666,\"#ed7953\"],[0.7777777777777778,\"#fb9f3a\"],[0.8888888888888888,\"#fdca26\"],[1.0,\"#f0f921\"]]}],\"mesh3d\":[{\"type\":\"mesh3d\",\"colorbar\":{\"outlinewidth\":0,\"ticks\":\"\"}}],\"scatter\":[{\"fillpattern\":{\"fillmode\":\"overlay\",\"size\":10,\"solidity\":0.2},\"type\":\"scatter\"}],\"parcoords\":[{\"type\":\"parcoords\",\"line\":{\"colorbar\":{\"outlinewidth\":0,\"ticks\":\"\"}}}],\"scatterpolargl\":[{\"type\":\"scatterpolargl\",\"marker\":{\"colorbar\":{\"outlinewidth\":0,\"ticks\":\"\"}}}],\"bar\":[{\"error_x\":{\"color\":\"#2a3f5f\"},\"error_y\":{\"color\":\"#2a3f5f\"},\"marker\":{\"line\":{\"color\":\"#E5ECF6\",\"width\":0.5},\"pattern\":{\"fillmode\":\"overlay\",\"size\":10,\"solidity\":0.2}},\"type\":\"bar\"}],\"scattergeo\":[{\"type\":\"scattergeo\",\"marker\":{\"colorbar\":{\"outlinewidth\":0,\"ticks\":\"\"}}}],\"scatterpolar\":[{\"type\":\"scatterpolar\",\"marker\":{\"colorbar\":{\"outlinewidth\":0,\"ticks\":\"\"}}}],\"histogram\":[{\"marker\":{\"pattern\":{\"fillmode\":\"overlay\",\"size\":10,\"solidity\":0.2}},\"type\":\"histogram\"}],\"scattergl\":[{\"type\":\"scattergl\",\"marker\":{\"colorbar\":{\"outlinewidth\":0,\"ticks\":\"\"}}}],\"scatter3d\":[{\"type\":\"scatter3d\",\"line\":{\"colorbar\":{\"outlinewidth\":0,\"ticks\":\"\"}},\"marker\":{\"colorbar\":{\"outlinewidth\":0,\"ticks\":\"\"}}}],\"scattermapbox\":[{\"type\":\"scattermapbox\",\"marker\":{\"colorbar\":{\"outlinewidth\":0,\"ticks\":\"\"}}}],\"scatterternary\":[{\"type\":\"scatterternary\",\"marker\":{\"colorbar\":{\"outlinewidth\":0,\"ticks\":\"\"}}}],\"scattercarpet\":[{\"type\":\"scattercarpet\",\"marker\":{\"colorbar\":{\"outlinewidth\":0,\"ticks\":\"\"}}}],\"carpet\":[{\"aaxis\":{\"endlinecolor\":\"#2a3f5f\",\"gridcolor\":\"white\",\"linecolor\":\"white\",\"minorgridcolor\":\"white\",\"startlinecolor\":\"#2a3f5f\"},\"baxis\":{\"endlinecolor\":\"#2a3f5f\",\"gridcolor\":\"white\",\"linecolor\":\"white\",\"minorgridcolor\":\"white\",\"startlinecolor\":\"#2a3f5f\"},\"type\":\"carpet\"}],\"table\":[{\"cells\":{\"fill\":{\"color\":\"#EBF0F8\"},\"line\":{\"color\":\"white\"}},\"header\":{\"fill\":{\"color\":\"#C8D4E3\"},\"line\":{\"color\":\"white\"}},\"type\":\"table\"}],\"barpolar\":[{\"marker\":{\"line\":{\"color\":\"#E5ECF6\",\"width\":0.5},\"pattern\":{\"fillmode\":\"overlay\",\"size\":10,\"solidity\":0.2}},\"type\":\"barpolar\"}],\"pie\":[{\"automargin\":true,\"type\":\"pie\"}]},\"layout\":{\"autotypenumbers\":\"strict\",\"colorway\":[\"#636efa\",\"#EF553B\",\"#00cc96\",\"#ab63fa\",\"#FFA15A\",\"#19d3f3\",\"#FF6692\",\"#B6E880\",\"#FF97FF\",\"#FECB52\"],\"font\":{\"color\":\"#2a3f5f\"},\"hovermode\":\"closest\",\"hoverlabel\":{\"align\":\"left\"},\"paper_bgcolor\":\"white\",\"plot_bgcolor\":\"#E5ECF6\",\"polar\":{\"bgcolor\":\"#E5ECF6\",\"angularaxis\":{\"gridcolor\":\"white\",\"linecolor\":\"white\",\"ticks\":\"\"},\"radialaxis\":{\"gridcolor\":\"white\",\"linecolor\":\"white\",\"ticks\":\"\"}},\"ternary\":{\"bgcolor\":\"#E5ECF6\",\"aaxis\":{\"gridcolor\":\"white\",\"linecolor\":\"white\",\"ticks\":\"\"},\"baxis\":{\"gridcolor\":\"white\",\"linecolor\":\"white\",\"ticks\":\"\"},\"caxis\":{\"gridcolor\":\"white\",\"linecolor\":\"white\",\"ticks\":\"\"}},\"coloraxis\":{\"colorbar\":{\"outlinewidth\":0,\"ticks\":\"\"}},\"colorscale\":{\"sequential\":[[0.0,\"#0d0887\"],[0.1111111111111111,\"#46039f\"],[0.2222222222222222,\"#7201a8\"],[0.3333333333333333,\"#9c179e\"],[0.4444444444444444,\"#bd3786\"],[0.5555555555555556,\"#d8576b\"],[0.6666666666666666,\"#ed7953\"],[0.7777777777777778,\"#fb9f3a\"],[0.8888888888888888,\"#fdca26\"],[1.0,\"#f0f921\"]],\"sequentialminus\":[[0.0,\"#0d0887\"],[0.1111111111111111,\"#46039f\"],[0.2222222222222222,\"#7201a8\"],[0.3333333333333333,\"#9c179e\"],[0.4444444444444444,\"#bd3786\"],[0.5555555555555556,\"#d8576b\"],[0.6666666666666666,\"#ed7953\"],[0.7777777777777778,\"#fb9f3a\"],[0.8888888888888888,\"#fdca26\"],[1.0,\"#f0f921\"]],\"diverging\":[[0,\"#8e0152\"],[0.1,\"#c51b7d\"],[0.2,\"#de77ae\"],[0.3,\"#f1b6da\"],[0.4,\"#fde0ef\"],[0.5,\"#f7f7f7\"],[0.6,\"#e6f5d0\"],[0.7,\"#b8e186\"],[0.8,\"#7fbc41\"],[0.9,\"#4d9221\"],[1,\"#276419\"]]},\"xaxis\":{\"gridcolor\":\"white\",\"linecolor\":\"white\",\"ticks\":\"\",\"title\":{\"standoff\":15},\"zerolinecolor\":\"white\",\"automargin\":true,\"zerolinewidth\":2},\"yaxis\":{\"gridcolor\":\"white\",\"linecolor\":\"white\",\"ticks\":\"\",\"title\":{\"standoff\":15},\"zerolinecolor\":\"white\",\"automargin\":true,\"zerolinewidth\":2},\"scene\":{\"xaxis\":{\"backgroundcolor\":\"#E5ECF6\",\"gridcolor\":\"white\",\"linecolor\":\"white\",\"showbackground\":true,\"ticks\":\"\",\"zerolinecolor\":\"white\",\"gridwidth\":2},\"yaxis\":{\"backgroundcolor\":\"#E5ECF6\",\"gridcolor\":\"white\",\"linecolor\":\"white\",\"showbackground\":true,\"ticks\":\"\",\"zerolinecolor\":\"white\",\"gridwidth\":2},\"zaxis\":{\"backgroundcolor\":\"#E5ECF6\",\"gridcolor\":\"white\",\"linecolor\":\"white\",\"showbackground\":true,\"ticks\":\"\",\"zerolinecolor\":\"white\",\"gridwidth\":2}},\"shapedefaults\":{\"line\":{\"color\":\"#2a3f5f\"}},\"annotationdefaults\":{\"arrowcolor\":\"#2a3f5f\",\"arrowhead\":0,\"arrowwidth\":1},\"geo\":{\"bgcolor\":\"white\",\"landcolor\":\"#E5ECF6\",\"subunitcolor\":\"white\",\"showland\":true,\"showlakes\":true,\"lakecolor\":\"white\"},\"title\":{\"x\":0.05},\"mapbox\":{\"style\":\"light\"}}},\"scene\":{\"domain\":{\"x\":[0.0,1.0],\"y\":[0.0,1.0]},\"xaxis\":{\"title\":{\"text\":\"feature1\"}},\"yaxis\":{\"title\":{\"text\":\"feature2\"}},\"zaxis\":{\"title\":{\"text\":\"target\"}}},\"legend\":{\"tracegroupgap\":0},\"margin\":{\"t\":60}},                        {\"responsive\": true}                    ).then(function(){\n",
       "                            \n",
       "var gd = document.getElementById('777f38da-e776-48ab-b606-35b382982c24');\n",
       "var x = new MutationObserver(function (mutations, observer) {{\n",
       "        var display = window.getComputedStyle(gd).display;\n",
       "        if (!display || display === 'none') {{\n",
       "            console.log([gd, 'removed!']);\n",
       "            Plotly.purge(gd);\n",
       "            observer.disconnect();\n",
       "        }}\n",
       "}});\n",
       "\n",
       "// Listen for the removal of the full notebook cells\n",
       "var notebookContainer = gd.closest('#notebook-container');\n",
       "if (notebookContainer) {{\n",
       "    x.observe(notebookContainer, {childList: true});\n",
       "}}\n",
       "\n",
       "// Listen for the clearing of the current output cell\n",
       "var outputEl = gd.closest('.output');\n",
       "if (outputEl) {{\n",
       "    x.observe(outputEl, {childList: true});\n",
       "}}\n",
       "\n",
       "                        })                };                });            </script>        </div>"
      ]
     },
     "metadata": {},
     "output_type": "display_data"
    }
   ],
   "source": [
    "graph.show()"
   ]
  },
  {
   "cell_type": "code",
   "execution_count": 43,
   "id": "0776452b",
   "metadata": {},
   "outputs": [
    {
     "data": {
      "application/vnd.plotly.v1+json": {
       "config": {
        "plotlyServerURL": "https://plot.ly"
       },
       "data": [
        {
         "hovertemplate": "feature1=%{x}<br>feature2=%{y}<br>target=%{z}<extra></extra>",
         "legendgroup": "",
         "marker": {
          "color": "#636efa",
          "symbol": "circle"
         },
         "mode": "markers",
         "name": "",
         "scene": "scene",
         "showlegend": false,
         "type": "scatter3d",
         "x": [
          0.004742284001917562,
          -0.8356582866306284,
          -0.8406011933869494,
          0.9586695000206483,
          -2.018800846130519,
          -2.621891680840977,
          -1.596681719323941,
          1.5648510263193425,
          0.24292736098957943,
          -0.3058410700669254,
          -0.08502551940016104,
          -1.3390156844414616,
          1.0189439705164194,
          -1.5755351251045597,
          -0.8516283368651284,
          -1.5174336454873418,
          0.1559109810262046,
          1.4403214990238522,
          0.5949510542322277,
          1.7532105998899667,
          -0.34901885977820984,
          0.3229860064209929,
          -1.1071478757218516,
          -0.15771812977449334,
          1.5077516721587645,
          -0.38189488257248655,
          -0.05482022352978433,
          -0.6000452390956883,
          -0.058984602561526406,
          -2.384173651971554,
          0.38558397055710486,
          -0.3143694249038145,
          0.7544683671238958,
          0.35746446138932203,
          0.8343578865463002,
          -1.6163339635003864,
          1.1494716184756748,
          -1.1547506354366326,
          -1.080322702955673,
          1.5816109545875612,
          0.9277053334706059,
          -0.6743216347695161,
          1.2055046792864672,
          0.12059142917054366,
          0.3372863055543947,
          -0.035509463699666594,
          0.088990674714701,
          0.12369588197011175,
          -0.2534423879843721,
          -0.20973072766931625,
          0.9443969667333483,
          1.9267991602788423,
          -0.2067130401155453,
          -0.4343278182191013,
          2.431338391526807,
          -0.7982733957951929,
          -0.9449843053000183,
          0.558580634346489,
          -0.18765368576686078,
          0.34433166258557846,
          0.049534165412323125,
          -1.1398435734499845,
          -1.0435081647286124,
          0.6389131608733015,
          0.0955462004731192,
          0.1406941067699106,
          -1.4759781703929573,
          -0.27396758044855524,
          -0.05156246140895805,
          1.4926786752118752,
          -1.1410443284860377,
          -2.189231691558231,
          -0.65566954010264,
          -0.03414624690767924,
          -1.3062803105119583,
          -2.2951599614855596,
          -0.4687544616175868,
          -0.21611290304949338,
          -0.2089043681690278,
          0.08663181500881471,
          -0.5894425179109998,
          -0.05479794445365811,
          1.518812961053512,
          1.4228005402653396,
          0.5900553983591472,
          -0.6012932655489348,
          -1.7427574293156427,
          -0.7419382961342827,
          -0.9816058294226646,
          -1.4912646888498806,
          -0.23979240832713897,
          -1.225675825930051,
          0.6674377385966214,
          -1.3764508633299715,
          0.4762697430785866,
          -0.04511424927318804,
          0.11810219174150685,
          -1.1958623644129829,
          0.8021218108248775,
          0.8225337095293911
         ],
         "y": [
          -1.176274835873546,
          -1.0613570875841483,
          -0.687053254061014,
          0.4163926333834733,
          0.833875018020456,
          0.7426849077534105,
          0.32204444583264646,
          -1.7351025768623844,
          -1.3872491875834694,
          1.5038040569060636,
          -0.5601423662451079,
          -1.1300483445649772,
          1.4348573555626738,
          -0.5800462705896142,
          -1.4303234208312376,
          1.2702491687262898,
          -0.14572695689859788,
          -0.036241208103322105,
          -0.04566230061691985,
          0.6316588026872362,
          0.09286814021355819,
          -1.001462030378719,
          1.4077450001728338,
          -0.9101389324461744,
          -0.07099229210977889,
          -1.6825631954271478,
          0.26429204946471485,
          -0.380979786927557,
          -0.3988734034272697,
          0.5729757053812351,
          -0.04230908024376315,
          0.8602525057504763,
          0.5861944868242481,
          0.71090745643082,
          -0.6179036328138533,
          1.013647801780801,
          0.2040614062377062,
          1.1756128112490671,
          -0.698511135220755,
          -1.03822347632479,
          -0.8966342413255358,
          0.2746731736153423,
          -0.010377630618808226,
          0.7456411538136375,
          0.6985932402940268,
          -0.2033618486528704,
          0.22556141968369842,
          0.8781113314878524,
          0.07878468301551689,
          0.9510533316344604,
          -0.612701745402359,
          -0.880153831040224,
          -0.045519041360497184,
          -0.5957286003714681,
          -0.850764753315659,
          -1.5558907088364482,
          0.8693023206531242,
          1.039654271148818,
          0.2674076225193418,
          -0.007562522799264612,
          0.1682822432555396,
          0.9994084762439628,
          -0.02740969196282516,
          1.7399289307312453,
          2.185054466979024,
          -0.8546456232444277,
          1.6237168616983235,
          1.5785119596159733,
          1.9246601719917944,
          0.1748058187155658,
          0.10006883227732084,
          -0.4181077386034237,
          0.7688218319427294,
          -0.4116852546065583,
          0.9785647326722933,
          1.598827291522812,
          0.41103903046402124,
          -0.5157476788163622,
          -1.9180297924596599,
          -1.8726646860387122,
          -1.9222924219645279,
          1.920967837313781,
          0.6625201577954809,
          0.6043551762976859,
          -0.41801186280692254,
          1.7051246410455543,
          0.03069051100578694,
          0.7698620925613556,
          -0.19190946991495217,
          -1.524993721911371,
          1.442996282826407,
          -0.4609165180378388,
          0.7112397184976226,
          -1.3294981170466966,
          0.4296907028833886,
          -1.0853571153538044,
          0.4670317651082339,
          1.6162693539852653,
          -0.19070443780972704,
          0.17120726747869322
         ],
         "z": [
          -48.60729719896437,
          -78.82511391864101,
          -63.500678756857866,
          57.18590341873139,
          -49.44440247221704,
          -78.33462306302013,
          -53.107909955094044,
          -6.8462749575403725,
          -47.44517588910196,
          49.66204751462377,
          -26.78042959806828,
          -102.62993550717313,
          101.95216092355511,
          -89.65614624569297,
          -94.79869730063251,
          -10.466933325656836,
          0.44422638460969915,
          58.45687470939409,
          22.873230040804724,
          99.19422389837469,
          -10.676464196729963,
          -28.105674189359508,
          12.318082926273522,
          -44.32829906034348,
          59.822137237987896,
          -85.70936173879709,
          8.683553946749482,
          -40.787071139873746,
          -19.005150031433853,
          -75.47981618305641,
          14.296410659985757,
          22.605470025527154,
          55.730248433936495,
          44.37743880810295,
          9.096915680163267,
          -25.230776932771207,
          56.31917509795351,
          0.7050042262278506,
          -73.95567843248116,
          22.76559155131272,
          1.418180266904627,
          -16.675555240145812,
          49.754558616137714,
          35.957552014221044,
          43.026494492876616,
          -9.915927303623494,
          13.06342956106484,
          41.58309910989506,
          -7.2819530783146265,
          30.728986209100697,
          13.893671480564938,
          43.69422384247025,
          -10.494086422233638,
          -42.798382791466494,
          65.91756178300538,
          -97.78743374062739,
          -3.2715299008324847,
          66.3899070279384,
          3.2829675108821905,
          14.020744330123941,
          9.044290458415949,
          -5.985294037544474,
          -44.578477475580584,
          98.78918439646435,
          94.63749403219269,
          -29.60293540914383,
          5.924555034943315,
          54.08863944575372,
          77.7093659693194,
          69.39303701982097,
          -43.34970552500479,
          -108.48534444130789,
          4.603610718252562,
          -18.502705195028913,
          -13.778878093365996,
          -29.210657777951422,
          -2.459853802692075,
          -30.395618620630586,
          -88.27749443346363,
          -74.09208922055019,
          -104.29615048972188,
          77.42147453241702,
          90.71672066073933,
          84.30640721729587,
          7.220300215369275,
          45.71535354968592,
          -71.27758001397932,
          1.055405472005341,
          -48.826730665486764,
          -125.35470335276584,
          49.88868185679074,
          -70.1487081766101,
          57.295406075421226,
          -112.46371467900376,
          37.65536012292637,
          -46.91056434601771,
          24.294166844013386,
          17.276766603462764,
          25.47981366594386,
          41.34560814811655
         ]
        },
        {
         "type": "surface",
         "x": [
          -5,
          -3.888888888888889,
          -2.7777777777777777,
          -1.6666666666666665,
          -0.5555555555555554,
          0.5555555555555554,
          1.666666666666667,
          2.7777777777777786,
          3.8888888888888893,
          5
         ],
         "y": [
          -5,
          -3.888888888888889,
          -2.7777777777777777,
          -1.6666666666666665,
          -0.5555555555555554,
          0.5555555555555554,
          1.666666666666667,
          2.7777777777777786,
          3.8888888888888893,
          5
         ],
         "z": [
          [
           -415.6044727001687,
           -369.34893908110894,
           -323.09340546204925,
           -276.8378718429895,
           -230.58233822392978,
           -184.3268046048701,
           -138.07127098581034,
           -91.81573736675061,
           -45.560203747690906,
           0.6953298713688003
          ],
          [
           -369.503456830302,
           -323.24792321124227,
           -276.9923895921826,
           -230.73685597312283,
           -184.4813223540631,
           -138.22578873500342,
           -91.97025511594367,
           -45.71472149688393,
           0.5408121221757693,
           46.79634574123547
          ],
          [
           -323.40244096043534,
           -277.14690734137565,
           -230.8913737223159,
           -184.63584010325619,
           -138.38030648419647,
           -92.12477286513678,
           -45.86923924607703,
           0.38629437298270997,
           46.64182799204241,
           92.89736161110211
          ],
          [
           -277.3014250905687,
           -231.04589147150898,
           -184.79035785244926,
           -138.53482423338954,
           -92.27929061432981,
           -46.02375699527011,
           0.23177662378962782,
           46.48731024284937,
           92.74284386190907,
           138.99837748096877
          ],
          [
           -231.20040922070206,
           -184.94487560164234,
           -138.68934198258262,
           -92.43380836352289,
           -46.17827474446317,
           0.07725887459653502,
           46.33279249365627,
           92.58832611271602,
           138.84385973177572,
           185.0993933508354
          ],
          [
           -185.0993933508354,
           -138.8438597317757,
           -92.58832611271598,
           -46.33279249365626,
           -0.07725887459653147,
           46.17827474446317,
           92.43380836352291,
           138.68934198258265,
           184.94487560164234,
           231.20040922070206
          ],
          [
           -138.99837748096874,
           -92.74284386190902,
           -46.4873102428493,
           -0.23177662378957736,
           46.02375699527014,
           92.27929061432984,
           138.53482423338957,
           184.79035785244932,
           231.04589147150904,
           277.3014250905687
          ],
          [
           -92.89736161110208,
           -46.641827992042366,
           -0.386294372982641,
           45.86923924607708,
           92.1247728651368,
           138.3803064841965,
           184.63584010325624,
           230.891373722316,
           277.1469073413757,
           323.4024409604354
          ],
          [
           -46.79634574123544,
           -0.5408121221757188,
           45.714721496884,
           91.97025511594371,
           138.22578873500345,
           184.48132235406314,
           230.73685597312289,
           276.99238959218263,
           323.2479232112423,
           369.503456830302
          ],
          [
           -0.6953298713687968,
           45.56020374769092,
           91.81573736675064,
           138.07127098581037,
           184.3268046048701,
           230.58233822392978,
           276.8378718429895,
           323.09340546204925,
           369.348939081109,
           415.6044727001687
          ]
         ]
        }
       ],
       "layout": {
        "legend": {
         "tracegroupgap": 0
        },
        "margin": {
         "t": 60
        },
        "scene": {
         "domain": {
          "x": [
           0,
           1
          ],
          "y": [
           0,
           1
          ]
         },
         "xaxis": {
          "title": {
           "text": "feature1"
          }
         },
         "yaxis": {
          "title": {
           "text": "feature2"
          }
         },
         "zaxis": {
          "title": {
           "text": "target"
          }
         }
        },
        "template": {
         "data": {
          "bar": [
           {
            "error_x": {
             "color": "#2a3f5f"
            },
            "error_y": {
             "color": "#2a3f5f"
            },
            "marker": {
             "line": {
              "color": "#E5ECF6",
              "width": 0.5
             },
             "pattern": {
              "fillmode": "overlay",
              "size": 10,
              "solidity": 0.2
             }
            },
            "type": "bar"
           }
          ],
          "barpolar": [
           {
            "marker": {
             "line": {
              "color": "#E5ECF6",
              "width": 0.5
             },
             "pattern": {
              "fillmode": "overlay",
              "size": 10,
              "solidity": 0.2
             }
            },
            "type": "barpolar"
           }
          ],
          "carpet": [
           {
            "aaxis": {
             "endlinecolor": "#2a3f5f",
             "gridcolor": "white",
             "linecolor": "white",
             "minorgridcolor": "white",
             "startlinecolor": "#2a3f5f"
            },
            "baxis": {
             "endlinecolor": "#2a3f5f",
             "gridcolor": "white",
             "linecolor": "white",
             "minorgridcolor": "white",
             "startlinecolor": "#2a3f5f"
            },
            "type": "carpet"
           }
          ],
          "choropleth": [
           {
            "colorbar": {
             "outlinewidth": 0,
             "ticks": ""
            },
            "type": "choropleth"
           }
          ],
          "contour": [
           {
            "colorbar": {
             "outlinewidth": 0,
             "ticks": ""
            },
            "colorscale": [
             [
              0,
              "#0d0887"
             ],
             [
              0.1111111111111111,
              "#46039f"
             ],
             [
              0.2222222222222222,
              "#7201a8"
             ],
             [
              0.3333333333333333,
              "#9c179e"
             ],
             [
              0.4444444444444444,
              "#bd3786"
             ],
             [
              0.5555555555555556,
              "#d8576b"
             ],
             [
              0.6666666666666666,
              "#ed7953"
             ],
             [
              0.7777777777777778,
              "#fb9f3a"
             ],
             [
              0.8888888888888888,
              "#fdca26"
             ],
             [
              1,
              "#f0f921"
             ]
            ],
            "type": "contour"
           }
          ],
          "contourcarpet": [
           {
            "colorbar": {
             "outlinewidth": 0,
             "ticks": ""
            },
            "type": "contourcarpet"
           }
          ],
          "heatmap": [
           {
            "colorbar": {
             "outlinewidth": 0,
             "ticks": ""
            },
            "colorscale": [
             [
              0,
              "#0d0887"
             ],
             [
              0.1111111111111111,
              "#46039f"
             ],
             [
              0.2222222222222222,
              "#7201a8"
             ],
             [
              0.3333333333333333,
              "#9c179e"
             ],
             [
              0.4444444444444444,
              "#bd3786"
             ],
             [
              0.5555555555555556,
              "#d8576b"
             ],
             [
              0.6666666666666666,
              "#ed7953"
             ],
             [
              0.7777777777777778,
              "#fb9f3a"
             ],
             [
              0.8888888888888888,
              "#fdca26"
             ],
             [
              1,
              "#f0f921"
             ]
            ],
            "type": "heatmap"
           }
          ],
          "heatmapgl": [
           {
            "colorbar": {
             "outlinewidth": 0,
             "ticks": ""
            },
            "colorscale": [
             [
              0,
              "#0d0887"
             ],
             [
              0.1111111111111111,
              "#46039f"
             ],
             [
              0.2222222222222222,
              "#7201a8"
             ],
             [
              0.3333333333333333,
              "#9c179e"
             ],
             [
              0.4444444444444444,
              "#bd3786"
             ],
             [
              0.5555555555555556,
              "#d8576b"
             ],
             [
              0.6666666666666666,
              "#ed7953"
             ],
             [
              0.7777777777777778,
              "#fb9f3a"
             ],
             [
              0.8888888888888888,
              "#fdca26"
             ],
             [
              1,
              "#f0f921"
             ]
            ],
            "type": "heatmapgl"
           }
          ],
          "histogram": [
           {
            "marker": {
             "pattern": {
              "fillmode": "overlay",
              "size": 10,
              "solidity": 0.2
             }
            },
            "type": "histogram"
           }
          ],
          "histogram2d": [
           {
            "colorbar": {
             "outlinewidth": 0,
             "ticks": ""
            },
            "colorscale": [
             [
              0,
              "#0d0887"
             ],
             [
              0.1111111111111111,
              "#46039f"
             ],
             [
              0.2222222222222222,
              "#7201a8"
             ],
             [
              0.3333333333333333,
              "#9c179e"
             ],
             [
              0.4444444444444444,
              "#bd3786"
             ],
             [
              0.5555555555555556,
              "#d8576b"
             ],
             [
              0.6666666666666666,
              "#ed7953"
             ],
             [
              0.7777777777777778,
              "#fb9f3a"
             ],
             [
              0.8888888888888888,
              "#fdca26"
             ],
             [
              1,
              "#f0f921"
             ]
            ],
            "type": "histogram2d"
           }
          ],
          "histogram2dcontour": [
           {
            "colorbar": {
             "outlinewidth": 0,
             "ticks": ""
            },
            "colorscale": [
             [
              0,
              "#0d0887"
             ],
             [
              0.1111111111111111,
              "#46039f"
             ],
             [
              0.2222222222222222,
              "#7201a8"
             ],
             [
              0.3333333333333333,
              "#9c179e"
             ],
             [
              0.4444444444444444,
              "#bd3786"
             ],
             [
              0.5555555555555556,
              "#d8576b"
             ],
             [
              0.6666666666666666,
              "#ed7953"
             ],
             [
              0.7777777777777778,
              "#fb9f3a"
             ],
             [
              0.8888888888888888,
              "#fdca26"
             ],
             [
              1,
              "#f0f921"
             ]
            ],
            "type": "histogram2dcontour"
           }
          ],
          "mesh3d": [
           {
            "colorbar": {
             "outlinewidth": 0,
             "ticks": ""
            },
            "type": "mesh3d"
           }
          ],
          "parcoords": [
           {
            "line": {
             "colorbar": {
              "outlinewidth": 0,
              "ticks": ""
             }
            },
            "type": "parcoords"
           }
          ],
          "pie": [
           {
            "automargin": true,
            "type": "pie"
           }
          ],
          "scatter": [
           {
            "fillpattern": {
             "fillmode": "overlay",
             "size": 10,
             "solidity": 0.2
            },
            "type": "scatter"
           }
          ],
          "scatter3d": [
           {
            "line": {
             "colorbar": {
              "outlinewidth": 0,
              "ticks": ""
             }
            },
            "marker": {
             "colorbar": {
              "outlinewidth": 0,
              "ticks": ""
             }
            },
            "type": "scatter3d"
           }
          ],
          "scattercarpet": [
           {
            "marker": {
             "colorbar": {
              "outlinewidth": 0,
              "ticks": ""
             }
            },
            "type": "scattercarpet"
           }
          ],
          "scattergeo": [
           {
            "marker": {
             "colorbar": {
              "outlinewidth": 0,
              "ticks": ""
             }
            },
            "type": "scattergeo"
           }
          ],
          "scattergl": [
           {
            "marker": {
             "colorbar": {
              "outlinewidth": 0,
              "ticks": ""
             }
            },
            "type": "scattergl"
           }
          ],
          "scattermapbox": [
           {
            "marker": {
             "colorbar": {
              "outlinewidth": 0,
              "ticks": ""
             }
            },
            "type": "scattermapbox"
           }
          ],
          "scatterpolar": [
           {
            "marker": {
             "colorbar": {
              "outlinewidth": 0,
              "ticks": ""
             }
            },
            "type": "scatterpolar"
           }
          ],
          "scatterpolargl": [
           {
            "marker": {
             "colorbar": {
              "outlinewidth": 0,
              "ticks": ""
             }
            },
            "type": "scatterpolargl"
           }
          ],
          "scatterternary": [
           {
            "marker": {
             "colorbar": {
              "outlinewidth": 0,
              "ticks": ""
             }
            },
            "type": "scatterternary"
           }
          ],
          "surface": [
           {
            "colorbar": {
             "outlinewidth": 0,
             "ticks": ""
            },
            "colorscale": [
             [
              0,
              "#0d0887"
             ],
             [
              0.1111111111111111,
              "#46039f"
             ],
             [
              0.2222222222222222,
              "#7201a8"
             ],
             [
              0.3333333333333333,
              "#9c179e"
             ],
             [
              0.4444444444444444,
              "#bd3786"
             ],
             [
              0.5555555555555556,
              "#d8576b"
             ],
             [
              0.6666666666666666,
              "#ed7953"
             ],
             [
              0.7777777777777778,
              "#fb9f3a"
             ],
             [
              0.8888888888888888,
              "#fdca26"
             ],
             [
              1,
              "#f0f921"
             ]
            ],
            "type": "surface"
           }
          ],
          "table": [
           {
            "cells": {
             "fill": {
              "color": "#EBF0F8"
             },
             "line": {
              "color": "white"
             }
            },
            "header": {
             "fill": {
              "color": "#C8D4E3"
             },
             "line": {
              "color": "white"
             }
            },
            "type": "table"
           }
          ]
         },
         "layout": {
          "annotationdefaults": {
           "arrowcolor": "#2a3f5f",
           "arrowhead": 0,
           "arrowwidth": 1
          },
          "autotypenumbers": "strict",
          "coloraxis": {
           "colorbar": {
            "outlinewidth": 0,
            "ticks": ""
           }
          },
          "colorscale": {
           "diverging": [
            [
             0,
             "#8e0152"
            ],
            [
             0.1,
             "#c51b7d"
            ],
            [
             0.2,
             "#de77ae"
            ],
            [
             0.3,
             "#f1b6da"
            ],
            [
             0.4,
             "#fde0ef"
            ],
            [
             0.5,
             "#f7f7f7"
            ],
            [
             0.6,
             "#e6f5d0"
            ],
            [
             0.7,
             "#b8e186"
            ],
            [
             0.8,
             "#7fbc41"
            ],
            [
             0.9,
             "#4d9221"
            ],
            [
             1,
             "#276419"
            ]
           ],
           "sequential": [
            [
             0,
             "#0d0887"
            ],
            [
             0.1111111111111111,
             "#46039f"
            ],
            [
             0.2222222222222222,
             "#7201a8"
            ],
            [
             0.3333333333333333,
             "#9c179e"
            ],
            [
             0.4444444444444444,
             "#bd3786"
            ],
            [
             0.5555555555555556,
             "#d8576b"
            ],
            [
             0.6666666666666666,
             "#ed7953"
            ],
            [
             0.7777777777777778,
             "#fb9f3a"
            ],
            [
             0.8888888888888888,
             "#fdca26"
            ],
            [
             1,
             "#f0f921"
            ]
           ],
           "sequentialminus": [
            [
             0,
             "#0d0887"
            ],
            [
             0.1111111111111111,
             "#46039f"
            ],
            [
             0.2222222222222222,
             "#7201a8"
            ],
            [
             0.3333333333333333,
             "#9c179e"
            ],
            [
             0.4444444444444444,
             "#bd3786"
            ],
            [
             0.5555555555555556,
             "#d8576b"
            ],
            [
             0.6666666666666666,
             "#ed7953"
            ],
            [
             0.7777777777777778,
             "#fb9f3a"
            ],
            [
             0.8888888888888888,
             "#fdca26"
            ],
            [
             1,
             "#f0f921"
            ]
           ]
          },
          "colorway": [
           "#636efa",
           "#EF553B",
           "#00cc96",
           "#ab63fa",
           "#FFA15A",
           "#19d3f3",
           "#FF6692",
           "#B6E880",
           "#FF97FF",
           "#FECB52"
          ],
          "font": {
           "color": "#2a3f5f"
          },
          "geo": {
           "bgcolor": "white",
           "lakecolor": "white",
           "landcolor": "#E5ECF6",
           "showlakes": true,
           "showland": true,
           "subunitcolor": "white"
          },
          "hoverlabel": {
           "align": "left"
          },
          "hovermode": "closest",
          "mapbox": {
           "style": "light"
          },
          "paper_bgcolor": "white",
          "plot_bgcolor": "#E5ECF6",
          "polar": {
           "angularaxis": {
            "gridcolor": "white",
            "linecolor": "white",
            "ticks": ""
           },
           "bgcolor": "#E5ECF6",
           "radialaxis": {
            "gridcolor": "white",
            "linecolor": "white",
            "ticks": ""
           }
          },
          "scene": {
           "xaxis": {
            "backgroundcolor": "#E5ECF6",
            "gridcolor": "white",
            "gridwidth": 2,
            "linecolor": "white",
            "showbackground": true,
            "ticks": "",
            "zerolinecolor": "white"
           },
           "yaxis": {
            "backgroundcolor": "#E5ECF6",
            "gridcolor": "white",
            "gridwidth": 2,
            "linecolor": "white",
            "showbackground": true,
            "ticks": "",
            "zerolinecolor": "white"
           },
           "zaxis": {
            "backgroundcolor": "#E5ECF6",
            "gridcolor": "white",
            "gridwidth": 2,
            "linecolor": "white",
            "showbackground": true,
            "ticks": "",
            "zerolinecolor": "white"
           }
          },
          "shapedefaults": {
           "line": {
            "color": "#2a3f5f"
           }
          },
          "ternary": {
           "aaxis": {
            "gridcolor": "white",
            "linecolor": "white",
            "ticks": ""
           },
           "baxis": {
            "gridcolor": "white",
            "linecolor": "white",
            "ticks": ""
           },
           "bgcolor": "#E5ECF6",
           "caxis": {
            "gridcolor": "white",
            "linecolor": "white",
            "ticks": ""
           }
          },
          "title": {
           "x": 0.05
          },
          "xaxis": {
           "automargin": true,
           "gridcolor": "white",
           "linecolor": "white",
           "ticks": "",
           "title": {
            "standoff": 15
           },
           "zerolinecolor": "white",
           "zerolinewidth": 2
          },
          "yaxis": {
           "automargin": true,
           "gridcolor": "white",
           "linecolor": "white",
           "ticks": "",
           "title": {
            "standoff": 15
           },
           "zerolinecolor": "white",
           "zerolinewidth": 2
          }
         }
        }
       }
      },
      "text/html": [
       "<div>                            <div id=\"d9910f37-7817-47a2-9211-69e19e046f5e\" class=\"plotly-graph-div\" style=\"height:525px; width:100%;\"></div>            <script type=\"text/javascript\">                require([\"plotly\"], function(Plotly) {                    window.PLOTLYENV=window.PLOTLYENV || {};                                    if (document.getElementById(\"d9910f37-7817-47a2-9211-69e19e046f5e\")) {                    Plotly.newPlot(                        \"d9910f37-7817-47a2-9211-69e19e046f5e\",                        [{\"hovertemplate\":\"feature1=%{x}\\u003cbr\\u003efeature2=%{y}\\u003cbr\\u003etarget=%{z}\\u003cextra\\u003e\\u003c\\u002fextra\\u003e\",\"legendgroup\":\"\",\"marker\":{\"color\":\"#636efa\",\"symbol\":\"circle\"},\"mode\":\"markers\",\"name\":\"\",\"scene\":\"scene\",\"showlegend\":false,\"x\":[0.004742284001917562,-0.8356582866306284,-0.8406011933869494,0.9586695000206483,-2.018800846130519,-2.621891680840977,-1.596681719323941,1.5648510263193425,0.24292736098957943,-0.3058410700669254,-0.08502551940016104,-1.3390156844414616,1.0189439705164194,-1.5755351251045597,-0.8516283368651284,-1.5174336454873418,0.1559109810262046,1.4403214990238522,0.5949510542322277,1.7532105998899667,-0.34901885977820984,0.3229860064209929,-1.1071478757218516,-0.15771812977449334,1.5077516721587645,-0.38189488257248655,-0.05482022352978433,-0.6000452390956883,-0.058984602561526406,-2.384173651971554,0.38558397055710486,-0.3143694249038145,0.7544683671238958,0.35746446138932203,0.8343578865463002,-1.6163339635003864,1.1494716184756748,-1.1547506354366326,-1.080322702955673,1.5816109545875612,0.9277053334706059,-0.6743216347695161,1.2055046792864672,0.12059142917054366,0.3372863055543947,-0.035509463699666594,0.088990674714701,0.12369588197011175,-0.2534423879843721,-0.20973072766931625,0.9443969667333483,1.9267991602788423,-0.2067130401155453,-0.4343278182191013,2.431338391526807,-0.7982733957951929,-0.9449843053000183,0.558580634346489,-0.18765368576686078,0.34433166258557846,0.049534165412323125,-1.1398435734499845,-1.0435081647286124,0.6389131608733015,0.0955462004731192,0.1406941067699106,-1.4759781703929573,-0.27396758044855524,-0.05156246140895805,1.4926786752118752,-1.1410443284860377,-2.189231691558231,-0.65566954010264,-0.03414624690767924,-1.3062803105119583,-2.2951599614855596,-0.4687544616175868,-0.21611290304949338,-0.2089043681690278,0.08663181500881471,-0.5894425179109998,-0.05479794445365811,1.518812961053512,1.4228005402653396,0.5900553983591472,-0.6012932655489348,-1.7427574293156427,-0.7419382961342827,-0.9816058294226646,-1.4912646888498806,-0.23979240832713897,-1.225675825930051,0.6674377385966214,-1.3764508633299715,0.4762697430785866,-0.04511424927318804,0.11810219174150685,-1.1958623644129829,0.8021218108248775,0.8225337095293911],\"y\":[-1.176274835873546,-1.0613570875841483,-0.687053254061014,0.4163926333834733,0.833875018020456,0.7426849077534105,0.32204444583264646,-1.7351025768623844,-1.3872491875834694,1.5038040569060636,-0.5601423662451079,-1.1300483445649772,1.4348573555626738,-0.5800462705896142,-1.4303234208312376,1.2702491687262898,-0.14572695689859788,-0.036241208103322105,-0.04566230061691985,0.6316588026872362,0.09286814021355819,-1.001462030378719,1.4077450001728338,-0.9101389324461744,-0.07099229210977889,-1.6825631954271478,0.26429204946471485,-0.380979786927557,-0.3988734034272697,0.5729757053812351,-0.04230908024376315,0.8602525057504763,0.5861944868242481,0.71090745643082,-0.6179036328138533,1.013647801780801,0.2040614062377062,1.1756128112490671,-0.698511135220755,-1.03822347632479,-0.8966342413255358,0.2746731736153423,-0.010377630618808226,0.7456411538136375,0.6985932402940268,-0.2033618486528704,0.22556141968369842,0.8781113314878524,0.07878468301551689,0.9510533316344604,-0.612701745402359,-0.880153831040224,-0.045519041360497184,-0.5957286003714681,-0.850764753315659,-1.5558907088364482,0.8693023206531242,1.039654271148818,0.2674076225193418,-0.007562522799264612,0.1682822432555396,0.9994084762439628,-0.02740969196282516,1.7399289307312453,2.185054466979024,-0.8546456232444277,1.6237168616983235,1.5785119596159733,1.9246601719917944,0.1748058187155658,0.10006883227732084,-0.4181077386034237,0.7688218319427294,-0.4116852546065583,0.9785647326722933,1.598827291522812,0.41103903046402124,-0.5157476788163622,-1.9180297924596599,-1.8726646860387122,-1.9222924219645279,1.920967837313781,0.6625201577954809,0.6043551762976859,-0.41801186280692254,1.7051246410455543,0.03069051100578694,0.7698620925613556,-0.19190946991495217,-1.524993721911371,1.442996282826407,-0.4609165180378388,0.7112397184976226,-1.3294981170466966,0.4296907028833886,-1.0853571153538044,0.4670317651082339,1.6162693539852653,-0.19070443780972704,0.17120726747869322],\"z\":[-48.60729719896437,-78.82511391864101,-63.500678756857866,57.18590341873139,-49.44440247221704,-78.33462306302013,-53.107909955094044,-6.8462749575403725,-47.44517588910196,49.66204751462377,-26.78042959806828,-102.62993550717313,101.95216092355511,-89.65614624569297,-94.79869730063251,-10.466933325656836,0.44422638460969915,58.45687470939409,22.873230040804724,99.19422389837469,-10.676464196729963,-28.105674189359508,12.318082926273522,-44.32829906034348,59.822137237987896,-85.70936173879709,8.683553946749482,-40.787071139873746,-19.005150031433853,-75.47981618305641,14.296410659985757,22.605470025527154,55.730248433936495,44.37743880810295,9.096915680163267,-25.230776932771207,56.31917509795351,0.7050042262278506,-73.95567843248116,22.76559155131272,1.418180266904627,-16.675555240145812,49.754558616137714,35.957552014221044,43.026494492876616,-9.915927303623494,13.06342956106484,41.58309910989506,-7.2819530783146265,30.728986209100697,13.893671480564938,43.69422384247025,-10.494086422233638,-42.798382791466494,65.91756178300538,-97.78743374062739,-3.2715299008324847,66.3899070279384,3.2829675108821905,14.020744330123941,9.044290458415949,-5.985294037544474,-44.578477475580584,98.78918439646435,94.63749403219269,-29.60293540914383,5.924555034943315,54.08863944575372,77.7093659693194,69.39303701982097,-43.34970552500479,-108.48534444130789,4.603610718252562,-18.502705195028913,-13.778878093365996,-29.210657777951422,-2.459853802692075,-30.395618620630586,-88.27749443346363,-74.09208922055019,-104.29615048972188,77.42147453241702,90.71672066073933,84.30640721729587,7.220300215369275,45.71535354968592,-71.27758001397932,1.055405472005341,-48.826730665486764,-125.35470335276584,49.88868185679074,-70.1487081766101,57.295406075421226,-112.46371467900376,37.65536012292637,-46.91056434601771,24.294166844013386,17.276766603462764,25.47981366594386,41.34560814811655],\"type\":\"scatter3d\"},{\"x\":[-5.0,-3.888888888888889,-2.7777777777777777,-1.6666666666666665,-0.5555555555555554,0.5555555555555554,1.666666666666667,2.7777777777777786,3.8888888888888893,5.0],\"y\":[-5.0,-3.888888888888889,-2.7777777777777777,-1.6666666666666665,-0.5555555555555554,0.5555555555555554,1.666666666666667,2.7777777777777786,3.8888888888888893,5.0],\"z\":[[-415.6044727001687,-369.34893908110894,-323.09340546204925,-276.8378718429895,-230.58233822392978,-184.3268046048701,-138.07127098581034,-91.81573736675061,-45.560203747690906,0.6953298713688003],[-369.503456830302,-323.24792321124227,-276.9923895921826,-230.73685597312283,-184.4813223540631,-138.22578873500342,-91.97025511594367,-45.71472149688393,0.5408121221757693,46.79634574123547],[-323.40244096043534,-277.14690734137565,-230.8913737223159,-184.63584010325619,-138.38030648419647,-92.12477286513678,-45.86923924607703,0.38629437298270997,46.64182799204241,92.89736161110211],[-277.3014250905687,-231.04589147150898,-184.79035785244926,-138.53482423338954,-92.27929061432981,-46.02375699527011,0.23177662378962782,46.48731024284937,92.74284386190907,138.99837748096877],[-231.20040922070206,-184.94487560164234,-138.68934198258262,-92.43380836352289,-46.17827474446317,0.07725887459653502,46.33279249365627,92.58832611271602,138.84385973177572,185.0993933508354],[-185.0993933508354,-138.8438597317757,-92.58832611271598,-46.33279249365626,-0.07725887459653147,46.17827474446317,92.43380836352291,138.68934198258265,184.94487560164234,231.20040922070206],[-138.99837748096874,-92.74284386190902,-46.4873102428493,-0.23177662378957736,46.02375699527014,92.27929061432984,138.53482423338957,184.79035785244932,231.04589147150904,277.3014250905687],[-92.89736161110208,-46.641827992042366,-0.386294372982641,45.86923924607708,92.1247728651368,138.3803064841965,184.63584010325624,230.891373722316,277.1469073413757,323.4024409604354],[-46.79634574123544,-0.5408121221757188,45.714721496884,91.97025511594371,138.22578873500345,184.48132235406314,230.73685597312289,276.99238959218263,323.2479232112423,369.503456830302],[-0.6953298713687968,45.56020374769092,91.81573736675064,138.07127098581037,184.3268046048701,230.58233822392978,276.8378718429895,323.09340546204925,369.348939081109,415.6044727001687]],\"type\":\"surface\"}],                        {\"template\":{\"data\":{\"histogram2dcontour\":[{\"type\":\"histogram2dcontour\",\"colorbar\":{\"outlinewidth\":0,\"ticks\":\"\"},\"colorscale\":[[0.0,\"#0d0887\"],[0.1111111111111111,\"#46039f\"],[0.2222222222222222,\"#7201a8\"],[0.3333333333333333,\"#9c179e\"],[0.4444444444444444,\"#bd3786\"],[0.5555555555555556,\"#d8576b\"],[0.6666666666666666,\"#ed7953\"],[0.7777777777777778,\"#fb9f3a\"],[0.8888888888888888,\"#fdca26\"],[1.0,\"#f0f921\"]]}],\"choropleth\":[{\"type\":\"choropleth\",\"colorbar\":{\"outlinewidth\":0,\"ticks\":\"\"}}],\"histogram2d\":[{\"type\":\"histogram2d\",\"colorbar\":{\"outlinewidth\":0,\"ticks\":\"\"},\"colorscale\":[[0.0,\"#0d0887\"],[0.1111111111111111,\"#46039f\"],[0.2222222222222222,\"#7201a8\"],[0.3333333333333333,\"#9c179e\"],[0.4444444444444444,\"#bd3786\"],[0.5555555555555556,\"#d8576b\"],[0.6666666666666666,\"#ed7953\"],[0.7777777777777778,\"#fb9f3a\"],[0.8888888888888888,\"#fdca26\"],[1.0,\"#f0f921\"]]}],\"heatmap\":[{\"type\":\"heatmap\",\"colorbar\":{\"outlinewidth\":0,\"ticks\":\"\"},\"colorscale\":[[0.0,\"#0d0887\"],[0.1111111111111111,\"#46039f\"],[0.2222222222222222,\"#7201a8\"],[0.3333333333333333,\"#9c179e\"],[0.4444444444444444,\"#bd3786\"],[0.5555555555555556,\"#d8576b\"],[0.6666666666666666,\"#ed7953\"],[0.7777777777777778,\"#fb9f3a\"],[0.8888888888888888,\"#fdca26\"],[1.0,\"#f0f921\"]]}],\"heatmapgl\":[{\"type\":\"heatmapgl\",\"colorbar\":{\"outlinewidth\":0,\"ticks\":\"\"},\"colorscale\":[[0.0,\"#0d0887\"],[0.1111111111111111,\"#46039f\"],[0.2222222222222222,\"#7201a8\"],[0.3333333333333333,\"#9c179e\"],[0.4444444444444444,\"#bd3786\"],[0.5555555555555556,\"#d8576b\"],[0.6666666666666666,\"#ed7953\"],[0.7777777777777778,\"#fb9f3a\"],[0.8888888888888888,\"#fdca26\"],[1.0,\"#f0f921\"]]}],\"contourcarpet\":[{\"type\":\"contourcarpet\",\"colorbar\":{\"outlinewidth\":0,\"ticks\":\"\"}}],\"contour\":[{\"type\":\"contour\",\"colorbar\":{\"outlinewidth\":0,\"ticks\":\"\"},\"colorscale\":[[0.0,\"#0d0887\"],[0.1111111111111111,\"#46039f\"],[0.2222222222222222,\"#7201a8\"],[0.3333333333333333,\"#9c179e\"],[0.4444444444444444,\"#bd3786\"],[0.5555555555555556,\"#d8576b\"],[0.6666666666666666,\"#ed7953\"],[0.7777777777777778,\"#fb9f3a\"],[0.8888888888888888,\"#fdca26\"],[1.0,\"#f0f921\"]]}],\"surface\":[{\"type\":\"surface\",\"colorbar\":{\"outlinewidth\":0,\"ticks\":\"\"},\"colorscale\":[[0.0,\"#0d0887\"],[0.1111111111111111,\"#46039f\"],[0.2222222222222222,\"#7201a8\"],[0.3333333333333333,\"#9c179e\"],[0.4444444444444444,\"#bd3786\"],[0.5555555555555556,\"#d8576b\"],[0.6666666666666666,\"#ed7953\"],[0.7777777777777778,\"#fb9f3a\"],[0.8888888888888888,\"#fdca26\"],[1.0,\"#f0f921\"]]}],\"mesh3d\":[{\"type\":\"mesh3d\",\"colorbar\":{\"outlinewidth\":0,\"ticks\":\"\"}}],\"scatter\":[{\"fillpattern\":{\"fillmode\":\"overlay\",\"size\":10,\"solidity\":0.2},\"type\":\"scatter\"}],\"parcoords\":[{\"type\":\"parcoords\",\"line\":{\"colorbar\":{\"outlinewidth\":0,\"ticks\":\"\"}}}],\"scatterpolargl\":[{\"type\":\"scatterpolargl\",\"marker\":{\"colorbar\":{\"outlinewidth\":0,\"ticks\":\"\"}}}],\"bar\":[{\"error_x\":{\"color\":\"#2a3f5f\"},\"error_y\":{\"color\":\"#2a3f5f\"},\"marker\":{\"line\":{\"color\":\"#E5ECF6\",\"width\":0.5},\"pattern\":{\"fillmode\":\"overlay\",\"size\":10,\"solidity\":0.2}},\"type\":\"bar\"}],\"scattergeo\":[{\"type\":\"scattergeo\",\"marker\":{\"colorbar\":{\"outlinewidth\":0,\"ticks\":\"\"}}}],\"scatterpolar\":[{\"type\":\"scatterpolar\",\"marker\":{\"colorbar\":{\"outlinewidth\":0,\"ticks\":\"\"}}}],\"histogram\":[{\"marker\":{\"pattern\":{\"fillmode\":\"overlay\",\"size\":10,\"solidity\":0.2}},\"type\":\"histogram\"}],\"scattergl\":[{\"type\":\"scattergl\",\"marker\":{\"colorbar\":{\"outlinewidth\":0,\"ticks\":\"\"}}}],\"scatter3d\":[{\"type\":\"scatter3d\",\"line\":{\"colorbar\":{\"outlinewidth\":0,\"ticks\":\"\"}},\"marker\":{\"colorbar\":{\"outlinewidth\":0,\"ticks\":\"\"}}}],\"scattermapbox\":[{\"type\":\"scattermapbox\",\"marker\":{\"colorbar\":{\"outlinewidth\":0,\"ticks\":\"\"}}}],\"scatterternary\":[{\"type\":\"scatterternary\",\"marker\":{\"colorbar\":{\"outlinewidth\":0,\"ticks\":\"\"}}}],\"scattercarpet\":[{\"type\":\"scattercarpet\",\"marker\":{\"colorbar\":{\"outlinewidth\":0,\"ticks\":\"\"}}}],\"carpet\":[{\"aaxis\":{\"endlinecolor\":\"#2a3f5f\",\"gridcolor\":\"white\",\"linecolor\":\"white\",\"minorgridcolor\":\"white\",\"startlinecolor\":\"#2a3f5f\"},\"baxis\":{\"endlinecolor\":\"#2a3f5f\",\"gridcolor\":\"white\",\"linecolor\":\"white\",\"minorgridcolor\":\"white\",\"startlinecolor\":\"#2a3f5f\"},\"type\":\"carpet\"}],\"table\":[{\"cells\":{\"fill\":{\"color\":\"#EBF0F8\"},\"line\":{\"color\":\"white\"}},\"header\":{\"fill\":{\"color\":\"#C8D4E3\"},\"line\":{\"color\":\"white\"}},\"type\":\"table\"}],\"barpolar\":[{\"marker\":{\"line\":{\"color\":\"#E5ECF6\",\"width\":0.5},\"pattern\":{\"fillmode\":\"overlay\",\"size\":10,\"solidity\":0.2}},\"type\":\"barpolar\"}],\"pie\":[{\"automargin\":true,\"type\":\"pie\"}]},\"layout\":{\"autotypenumbers\":\"strict\",\"colorway\":[\"#636efa\",\"#EF553B\",\"#00cc96\",\"#ab63fa\",\"#FFA15A\",\"#19d3f3\",\"#FF6692\",\"#B6E880\",\"#FF97FF\",\"#FECB52\"],\"font\":{\"color\":\"#2a3f5f\"},\"hovermode\":\"closest\",\"hoverlabel\":{\"align\":\"left\"},\"paper_bgcolor\":\"white\",\"plot_bgcolor\":\"#E5ECF6\",\"polar\":{\"bgcolor\":\"#E5ECF6\",\"angularaxis\":{\"gridcolor\":\"white\",\"linecolor\":\"white\",\"ticks\":\"\"},\"radialaxis\":{\"gridcolor\":\"white\",\"linecolor\":\"white\",\"ticks\":\"\"}},\"ternary\":{\"bgcolor\":\"#E5ECF6\",\"aaxis\":{\"gridcolor\":\"white\",\"linecolor\":\"white\",\"ticks\":\"\"},\"baxis\":{\"gridcolor\":\"white\",\"linecolor\":\"white\",\"ticks\":\"\"},\"caxis\":{\"gridcolor\":\"white\",\"linecolor\":\"white\",\"ticks\":\"\"}},\"coloraxis\":{\"colorbar\":{\"outlinewidth\":0,\"ticks\":\"\"}},\"colorscale\":{\"sequential\":[[0.0,\"#0d0887\"],[0.1111111111111111,\"#46039f\"],[0.2222222222222222,\"#7201a8\"],[0.3333333333333333,\"#9c179e\"],[0.4444444444444444,\"#bd3786\"],[0.5555555555555556,\"#d8576b\"],[0.6666666666666666,\"#ed7953\"],[0.7777777777777778,\"#fb9f3a\"],[0.8888888888888888,\"#fdca26\"],[1.0,\"#f0f921\"]],\"sequentialminus\":[[0.0,\"#0d0887\"],[0.1111111111111111,\"#46039f\"],[0.2222222222222222,\"#7201a8\"],[0.3333333333333333,\"#9c179e\"],[0.4444444444444444,\"#bd3786\"],[0.5555555555555556,\"#d8576b\"],[0.6666666666666666,\"#ed7953\"],[0.7777777777777778,\"#fb9f3a\"],[0.8888888888888888,\"#fdca26\"],[1.0,\"#f0f921\"]],\"diverging\":[[0,\"#8e0152\"],[0.1,\"#c51b7d\"],[0.2,\"#de77ae\"],[0.3,\"#f1b6da\"],[0.4,\"#fde0ef\"],[0.5,\"#f7f7f7\"],[0.6,\"#e6f5d0\"],[0.7,\"#b8e186\"],[0.8,\"#7fbc41\"],[0.9,\"#4d9221\"],[1,\"#276419\"]]},\"xaxis\":{\"gridcolor\":\"white\",\"linecolor\":\"white\",\"ticks\":\"\",\"title\":{\"standoff\":15},\"zerolinecolor\":\"white\",\"automargin\":true,\"zerolinewidth\":2},\"yaxis\":{\"gridcolor\":\"white\",\"linecolor\":\"white\",\"ticks\":\"\",\"title\":{\"standoff\":15},\"zerolinecolor\":\"white\",\"automargin\":true,\"zerolinewidth\":2},\"scene\":{\"xaxis\":{\"backgroundcolor\":\"#E5ECF6\",\"gridcolor\":\"white\",\"linecolor\":\"white\",\"showbackground\":true,\"ticks\":\"\",\"zerolinecolor\":\"white\",\"gridwidth\":2},\"yaxis\":{\"backgroundcolor\":\"#E5ECF6\",\"gridcolor\":\"white\",\"linecolor\":\"white\",\"showbackground\":true,\"ticks\":\"\",\"zerolinecolor\":\"white\",\"gridwidth\":2},\"zaxis\":{\"backgroundcolor\":\"#E5ECF6\",\"gridcolor\":\"white\",\"linecolor\":\"white\",\"showbackground\":true,\"ticks\":\"\",\"zerolinecolor\":\"white\",\"gridwidth\":2}},\"shapedefaults\":{\"line\":{\"color\":\"#2a3f5f\"}},\"annotationdefaults\":{\"arrowcolor\":\"#2a3f5f\",\"arrowhead\":0,\"arrowwidth\":1},\"geo\":{\"bgcolor\":\"white\",\"landcolor\":\"#E5ECF6\",\"subunitcolor\":\"white\",\"showland\":true,\"showlakes\":true,\"lakecolor\":\"white\"},\"title\":{\"x\":0.05},\"mapbox\":{\"style\":\"light\"}}},\"scene\":{\"domain\":{\"x\":[0.0,1.0],\"y\":[0.0,1.0]},\"xaxis\":{\"title\":{\"text\":\"feature1\"}},\"yaxis\":{\"title\":{\"text\":\"feature2\"}},\"zaxis\":{\"title\":{\"text\":\"target\"}}},\"legend\":{\"tracegroupgap\":0},\"margin\":{\"t\":60}},                        {\"responsive\": true}                    ).then(function(){\n",
       "                            \n",
       "var gd = document.getElementById('d9910f37-7817-47a2-9211-69e19e046f5e');\n",
       "var x = new MutationObserver(function (mutations, observer) {{\n",
       "        var display = window.getComputedStyle(gd).display;\n",
       "        if (!display || display === 'none') {{\n",
       "            console.log([gd, 'removed!']);\n",
       "            Plotly.purge(gd);\n",
       "            observer.disconnect();\n",
       "        }}\n",
       "}});\n",
       "\n",
       "// Listen for the removal of the full notebook cells\n",
       "var notebookContainer = gd.closest('#notebook-container');\n",
       "if (notebookContainer) {{\n",
       "    x.observe(notebookContainer, {childList: true});\n",
       "}}\n",
       "\n",
       "// Listen for the clearing of the current output cell\n",
       "var outputEl = gd.closest('.output');\n",
       "if (outputEl) {{\n",
       "    x.observe(outputEl, {childList: true});\n",
       "}}\n",
       "\n",
       "                        })                };                });            </script>        </div>"
      ]
     },
     "metadata": {},
     "output_type": "display_data"
    }
   ],
   "source": [
    "import plotly.graph_objects as go\n",
    "\n",
    "\n",
    "import numpy as np\n",
    "\n",
    "x = np.linspace(-5, 5, 10)\n",
    "y = np.linspace(-5, 5, 10)\n",
    "\n",
    "xGrid, yGrid = np.meshgrid(y, x)\n",
    "final = np.vstack((xGrid.ravel().reshape(1,100),yGrid.ravel().reshape(1,100))).T\n",
    "\n",
    "z_final = obj.predict(final).reshape(10,10)\n",
    "\n",
    "z = z_final\n",
    "\n",
    "graph = px.scatter_3d(data, x='feature1', y='feature2', z='target')\n",
    "\n",
    "graph.add_trace(go.Surface(x = x, y = y, z =z ))\n",
    "\n",
    "graph.show()"
   ]
  },
  {
   "cell_type": "code",
   "execution_count": null,
   "id": "d5f52c3e",
   "metadata": {},
   "outputs": [],
   "source": []
  },
  {
   "cell_type": "code",
   "execution_count": null,
   "id": "8567043d",
   "metadata": {},
   "outputs": [],
   "source": []
  }
 ],
 "metadata": {
  "kernelspec": {
   "display_name": "Python 3 (ipykernel)",
   "language": "python",
   "name": "python3"
  },
  "language_info": {
   "codemirror_mode": {
    "name": "ipython",
    "version": 3
   },
   "file_extension": ".py",
   "mimetype": "text/x-python",
   "name": "python",
   "nbconvert_exporter": "python",
   "pygments_lexer": "ipython3",
   "version": "3.11.0"
  }
 },
 "nbformat": 4,
 "nbformat_minor": 5
}
