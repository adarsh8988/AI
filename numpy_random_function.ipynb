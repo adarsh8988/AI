{
 "cells": [
  {
   "cell_type": "markdown",
   "id": "539ff47d",
   "metadata": {},
   "source": [
    "# Random"
   ]
  },
  {
   "cell_type": "code",
   "execution_count": 6,
   "id": "37a00a8f",
   "metadata": {},
   "outputs": [],
   "source": [
    "from numpy import random"
   ]
  },
  {
   "cell_type": "markdown",
   "id": "66247cd2",
   "metadata": {},
   "source": [
    "# randint="
   ]
  },
  {
   "cell_type": "code",
   "execution_count": 36,
   "id": "05fb250b",
   "metadata": {},
   "outputs": [
    {
     "data": {
      "text/plain": [
       "76"
      ]
     },
     "execution_count": 36,
     "metadata": {},
     "output_type": "execute_result"
    }
   ],
   "source": [
    "x=random.randint(100)\n",
    "x"
   ]
  },
  {
   "cell_type": "markdown",
   "id": "41324bcc",
   "metadata": {},
   "source": [
    "# Rand: print random values in the range between o and 1"
   ]
  },
  {
   "cell_type": "code",
   "execution_count": 19,
   "id": "3e605041",
   "metadata": {},
   "outputs": [
    {
     "data": {
      "text/plain": [
       "array([[85,  1, 58, 79, 32, 27, 85, 91, 46, 79],\n",
       "       [98, 62, 60, 60, 73,  5, 66, 26,  3, 88]])"
      ]
     },
     "execution_count": 19,
     "metadata": {},
     "output_type": "execute_result"
    }
   ],
   "source": [
    "x=random.randint(100,size=(2,10))\n",
    "x"
   ]
  },
  {
   "cell_type": "code",
   "execution_count": 34,
   "id": "f1ced573",
   "metadata": {},
   "outputs": [
    {
     "data": {
      "text/plain": [
       "array([[3, 1, 2, 3, 1, 3, 3, 3, 1, 3],\n",
       "       [2, 3, 3, 3, 3, 3, 3, 3, 3, 1]])"
      ]
     },
     "execution_count": 34,
     "metadata": {},
     "output_type": "execute_result"
    }
   ],
   "source": [
    "x=random.choice([2,3,1,3],size=(2,10),p=[0.1,0.4,0.2,0])"
   ]
  },
  {
   "cell_type": "markdown",
   "id": "db144fb6",
   "metadata": {},
   "source": [
    "# shuffle: rearrange the data"
   ]
  },
  {
   "cell_type": "code",
   "execution_count": null,
   "id": "3288c2ee",
   "metadata": {},
   "outputs": [],
   "source": []
  }
 ],
 "metadata": {
  "kernelspec": {
   "display_name": "Python 3 (ipykernel)",
   "language": "python",
   "name": "python3"
  },
  "language_info": {
   "codemirror_mode": {
    "name": "ipython",
    "version": 3
   },
   "file_extension": ".py",
   "mimetype": "text/x-python",
   "name": "python",
   "nbconvert_exporter": "python",
   "pygments_lexer": "ipython3",
   "version": "3.11.0"
  }
 },
 "nbformat": 4,
 "nbformat_minor": 5
}
