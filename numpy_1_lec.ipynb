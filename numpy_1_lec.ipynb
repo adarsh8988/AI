{
 "cells": [
  {
   "cell_type": "markdown",
   "id": "73b34418",
   "metadata": {},
   "source": [
    "# Importing data"
   ]
  },
  {
   "cell_type": "code",
   "execution_count": 1,
   "id": "073e6234",
   "metadata": {},
   "outputs": [
    {
     "name": "stdout",
     "output_type": "stream",
     "text": [
      "Collecting numpy\n",
      "  Obtaining dependency information for numpy from https://files.pythonhosted.org/packages/28/75/3b679b41713bb60e2e8f6e2f87be72c971c9e718b1c17b8f8749240ddca8/numpy-1.26.2-cp312-cp312-win_amd64.whl.metadata\n",
      "  Downloading numpy-1.26.2-cp312-cp312-win_amd64.whl.metadata (61 kB)\n",
      "     ---------------------------------------- 0.0/61.2 kB ? eta -:--:--\n",
      "     ---------------------------------------- 61.2/61.2 kB 1.6 MB/s eta 0:00:00\n",
      "Downloading numpy-1.26.2-cp312-cp312-win_amd64.whl (15.5 MB)\n",
      "   ---------------------------------------- 0.0/15.5 MB ? eta -:--:--\n",
      "    --------------------------------------- 0.3/15.5 MB 5.7 MB/s eta 0:00:03\n",
      "   - -------------------------------------- 0.7/15.5 MB 7.3 MB/s eta 0:00:03\n",
      "   -- ------------------------------------- 1.2/15.5 MB 8.1 MB/s eta 0:00:02\n",
      "   ---- ----------------------------------- 1.6/15.5 MB 8.3 MB/s eta 0:00:02\n",
      "   ---- ----------------------------------- 1.9/15.5 MB 8.0 MB/s eta 0:00:02\n",
      "   ---- ----------------------------------- 1.9/15.5 MB 8.2 MB/s eta 0:00:02\n",
      "   ---- ----------------------------------- 1.9/15.5 MB 8.2 MB/s eta 0:00:02\n",
      "   ---- ----------------------------------- 1.9/15.5 MB 8.2 MB/s eta 0:00:02\n",
      "   ----- ---------------------------------- 2.0/15.5 MB 4.8 MB/s eta 0:00:03\n",
      "   ----- ---------------------------------- 2.2/15.5 MB 4.6 MB/s eta 0:00:03\n",
      "   ------ --------------------------------- 2.5/15.5 MB 4.7 MB/s eta 0:00:03\n",
      "   ------ --------------------------------- 2.5/15.5 MB 4.7 MB/s eta 0:00:03\n",
      "   ------ --------------------------------- 2.6/15.5 MB 4.1 MB/s eta 0:00:04\n",
      "   ------ --------------------------------- 2.7/15.5 MB 4.0 MB/s eta 0:00:04\n",
      "   ------- -------------------------------- 3.0/15.5 MB 4.1 MB/s eta 0:00:04\n",
      "   -------- ------------------------------- 3.3/15.5 MB 4.4 MB/s eta 0:00:03\n",
      "   --------- ------------------------------ 3.6/15.5 MB 4.4 MB/s eta 0:00:03\n",
      "   ---------- ----------------------------- 3.9/15.5 MB 4.5 MB/s eta 0:00:03\n",
      "   ---------- ----------------------------- 3.9/15.5 MB 4.5 MB/s eta 0:00:03\n",
      "   ---------- ----------------------------- 4.1/15.5 MB 4.3 MB/s eta 0:00:03\n",
      "   ----------- ---------------------------- 4.5/15.5 MB 4.5 MB/s eta 0:00:03\n",
      "   ------------- -------------------------- 5.2/15.5 MB 5.0 MB/s eta 0:00:03\n",
      "   -------------- ------------------------- 5.7/15.5 MB 5.3 MB/s eta 0:00:02\n",
      "   --------------- ------------------------ 5.8/15.5 MB 5.1 MB/s eta 0:00:02\n",
      "   ---------------- ----------------------- 6.4/15.5 MB 5.4 MB/s eta 0:00:02\n",
      "   ---------------- ----------------------- 6.4/15.5 MB 5.3 MB/s eta 0:00:02\n",
      "   ---------------- ----------------------- 6.4/15.5 MB 5.3 MB/s eta 0:00:02\n",
      "   ------------------ --------------------- 7.0/15.5 MB 5.3 MB/s eta 0:00:02\n",
      "   ------------------- -------------------- 7.4/15.5 MB 5.3 MB/s eta 0:00:02\n",
      "   ------------------- -------------------- 7.5/15.5 MB 5.4 MB/s eta 0:00:02\n",
      "   -------------------- ------------------- 7.9/15.5 MB 5.4 MB/s eta 0:00:02\n",
      "   --------------------- ------------------ 8.5/15.5 MB 5.6 MB/s eta 0:00:02\n",
      "   ---------------------- ----------------- 8.6/15.5 MB 5.5 MB/s eta 0:00:02\n",
      "   ----------------------- ---------------- 9.3/15.5 MB 5.7 MB/s eta 0:00:02\n",
      "   ------------------------- -------------- 9.9/15.5 MB 5.9 MB/s eta 0:00:01\n",
      "   -------------------------- ------------- 10.2/15.5 MB 6.0 MB/s eta 0:00:01\n",
      "   --------------------------- ------------ 10.5/15.5 MB 6.0 MB/s eta 0:00:01\n",
      "   ---------------------------- ----------- 10.9/15.5 MB 6.0 MB/s eta 0:00:01\n",
      "   ---------------------------- ----------- 10.9/15.5 MB 6.0 MB/s eta 0:00:01\n",
      "   ---------------------------- ----------- 11.1/15.5 MB 5.8 MB/s eta 0:00:01\n",
      "   ----------------------------- ---------- 11.6/15.5 MB 5.7 MB/s eta 0:00:01\n",
      "   ------------------------------ --------- 11.7/15.5 MB 5.7 MB/s eta 0:00:01\n",
      "   ------------------------------- -------- 12.2/15.5 MB 6.4 MB/s eta 0:00:01\n",
      "   -------------------------------- ------- 12.6/15.5 MB 6.5 MB/s eta 0:00:01\n",
      "   ---------------------------------- ----- 13.2/15.5 MB 7.3 MB/s eta 0:00:01\n",
      "   ----------------------------------- ---- 13.8/15.5 MB 7.5 MB/s eta 0:00:01\n",
      "   ------------------------------------ --- 14.3/15.5 MB 8.0 MB/s eta 0:00:01\n",
      "   ------------------------------------- -- 14.4/15.5 MB 8.1 MB/s eta 0:00:01\n",
      "   -------------------------------------- - 14.8/15.5 MB 7.7 MB/s eta 0:00:01\n",
      "   ---------------------------------------  15.2/15.5 MB 7.6 MB/s eta 0:00:01\n",
      "   ---------------------------------------  15.5/15.5 MB 7.7 MB/s eta 0:00:01\n",
      "   ---------------------------------------- 15.5/15.5 MB 7.4 MB/s eta 0:00:00\n",
      "Installing collected packages: numpy\n",
      "Successfully installed numpy-1.26.2\n"
     ]
    },
    {
     "name": "stderr",
     "output_type": "stream",
     "text": [
      "\n",
      "[notice] A new release of pip is available: 23.2.1 -> 23.3.2\n",
      "[notice] To update, run: C:\\Users\\Dell\\AppData\\Local\\Programs\\Python\\Python312\\python.exe -m pip install --upgrade pip\n"
     ]
    }
   ],
   "source": [
    "!pip install numpy"
   ]
  },
  {
   "cell_type": "code",
   "execution_count": 2,
   "id": "6acbb381",
   "metadata": {},
   "outputs": [],
   "source": [
    "import numpy as np"
   ]
  },
  {
   "cell_type": "markdown",
   "id": "71073246",
   "metadata": {},
   "source": [
    "# ndarray:"
   ]
  },
  {
   "cell_type": "code",
   "execution_count": 43,
   "id": "a733647c",
   "metadata": {},
   "outputs": [],
   "source": [
    "# object created by array method in numpy is called ndarray\n",
    "# array"
   ]
  },
  {
   "cell_type": "code",
   "execution_count": 6,
   "id": "19acc0fc",
   "metadata": {},
   "outputs": [
    {
     "name": "stdout",
     "output_type": "stream",
     "text": [
      "<class 'list'>\n"
     ]
    }
   ],
   "source": [
    "arr=np.array(12)\n",
    "type (arr)"
   ]
  },
  {
   "cell_type": "code",
   "execution_count": 5,
   "id": "bbdd3850",
   "metadata": {},
   "outputs": [
    {
     "data": {
      "text/plain": [
       "numpy.ndarray"
      ]
     },
     "execution_count": 5,
     "metadata": {},
     "output_type": "execute_result"
    }
   ],
   "source": [
    "arr=np.array(2)\n",
    "type(arr)"
   ]
  },
  {
   "cell_type": "markdown",
   "id": "4bb91abf",
   "metadata": {},
   "source": [
    "# ndim show the dimension"
   ]
  },
  {
   "cell_type": "code",
   "execution_count": 13,
   "id": "088ae0a1",
   "metadata": {},
   "outputs": [
    {
     "data": {
      "text/plain": [
       "array([[[1, 3, 4, 3],\n",
       "        [1, 2, 3, 4]],\n",
       "\n",
       "       [[2, 3, 4, 5],\n",
       "        [3, 4, 5, 5]]])"
      ]
     },
     "execution_count": 13,
     "metadata": {},
     "output_type": "execute_result"
    }
   ],
   "source": [
    "x=np.array([[[1,3,4,3],[1,2,3,4]],[[2,3,4,5],[3,4,5,5]]])\n",
    "x.ndim\n",
    "x"
   ]
  },
  {
   "cell_type": "code",
   "execution_count": 7,
   "id": "b8ff237c",
   "metadata": {},
   "outputs": [
    {
     "data": {
      "text/plain": [
       "2"
      ]
     },
     "execution_count": 7,
     "metadata": {},
     "output_type": "execute_result"
    }
   ],
   "source": [
    "a=np.array([[1,2],[2,3]])\n",
    "a\n",
    "a.ndim"
   ]
  },
  {
   "cell_type": "markdown",
   "id": "8fe22911",
   "metadata": {},
   "source": [
    "# indexing"
   ]
  },
  {
   "cell_type": "code",
   "execution_count": 19,
   "id": "84fb634d",
   "metadata": {},
   "outputs": [
    {
     "data": {
      "text/plain": [
       "3"
      ]
     },
     "execution_count": 19,
     "metadata": {},
     "output_type": "execute_result"
    }
   ],
   "source": [
    "arr=np.array([[1,2,3,4],[2,3,4,0]])\n",
    "arr[1][1]"
   ]
  },
  {
   "cell_type": "code",
   "execution_count": 15,
   "id": "655070cd",
   "metadata": {},
   "outputs": [
    {
     "ename": "IndexError",
     "evalue": "too many indices for array: array is 0-dimensional, but 1 were indexed",
     "output_type": "error",
     "traceback": [
      "\u001b[1;31m---------------------------------------------------------------------------\u001b[0m",
      "\u001b[1;31mIndexError\u001b[0m                                Traceback (most recent call last)",
      "Cell \u001b[1;32mIn[15], line 1\u001b[0m\n\u001b[1;32m----> 1\u001b[0m \u001b[43marr\u001b[49m\u001b[43m[\u001b[49m\u001b[38;5;241;43m1\u001b[39;49m\u001b[43m]\u001b[49m\n",
      "\u001b[1;31mIndexError\u001b[0m: too many indices for array: array is 0-dimensional, but 1 were indexed"
     ]
    }
   ],
   "source": [
    "arr[1]"
   ]
  },
  {
   "cell_type": "markdown",
   "id": "0aae4e33",
   "metadata": {},
   "source": [
    "# slicing"
   ]
  },
  {
   "cell_type": "code",
   "execution_count": 25,
   "id": "c91fd4e7",
   "metadata": {},
   "outputs": [],
   "source": [
    "# [start:end:increment]\n",
    "# [0:n-1:1]"
   ]
  },
  {
   "cell_type": "code",
   "execution_count": null,
   "id": "6761f99e",
   "metadata": {},
   "outputs": [],
   "source": [
    "# sort\n",
    "arr=([1,22,4,23,5])\n",
    "arr.sort()\n",
    "\n",
    "arr[::-1]"
   ]
  },
  {
   "cell_type": "code",
   "execution_count": 57,
   "id": "685705e8",
   "metadata": {},
   "outputs": [
    {
     "data": {
      "text/plain": [
       "(array([0, 1], dtype=int64), array([0, 0], dtype=int64))"
      ]
     },
     "execution_count": 57,
     "metadata": {},
     "output_type": "execute_result"
    }
   ],
   "source": [
    "# where\n",
    "arr=np.array([[1,22,4,23,5],[1,3,4,5,5]])\n",
    "np.where(arr==1)"
   ]
  },
  {
   "cell_type": "code",
   "execution_count": null,
   "id": "c3b9c152",
   "metadata": {},
   "outputs": [],
   "source": []
  },
  {
   "cell_type": "code",
   "execution_count": 22,
   "id": "d5b2b690",
   "metadata": {},
   "outputs": [
    {
     "data": {
      "text/plain": [
       "[1, 2, 3, 4, 5]"
      ]
     },
     "execution_count": 22,
     "metadata": {},
     "output_type": "execute_result"
    }
   ],
   "source": [
    "arr=([[1,2,42,23,55],[32,4,3,6,7]],[[1,2,3,4,5],[1,23,4,4,3]])\n",
    "arr[1][0]"
   ]
  },
  {
   "cell_type": "code",
   "execution_count": 20,
   "id": "c9864fc1",
   "metadata": {},
   "outputs": [
    {
     "data": {
      "text/plain": [
       "array([2, 3, 4, 0])"
      ]
     },
     "execution_count": 20,
     "metadata": {},
     "output_type": "execute_result"
    }
   ],
   "source": [
    "arr[1]"
   ]
  },
  {
   "cell_type": "markdown",
   "id": "8a63053d",
   "metadata": {},
   "source": [
    "# shape : for rows and columns"
   ]
  },
  {
   "cell_type": "code",
   "execution_count": 2,
   "id": "35f2b67c",
   "metadata": {},
   "outputs": [
    {
     "data": {
      "text/plain": [
       "(2, 3)"
      ]
     },
     "execution_count": 2,
     "metadata": {},
     "output_type": "execute_result"
    }
   ],
   "source": [
    "import numpy as np\n",
    "arr=np.array([[1,2,3],[2,3,4]])\n",
    "arr.ndim\n",
    "arr.shape"
   ]
  },
  {
   "cell_type": "markdown",
   "id": "c45cb6e4",
   "metadata": {},
   "source": [
    "# reshape : changing the rows and columns"
   ]
  },
  {
   "cell_type": "code",
   "execution_count": 3,
   "id": "a06d8fe7",
   "metadata": {},
   "outputs": [
    {
     "data": {
      "text/plain": [
       "array([[ 1,  2,  3,  4,  4],\n",
       "       [ 3,  2,  1,  3, 10]])"
      ]
     },
     "execution_count": 3,
     "metadata": {},
     "output_type": "execute_result"
    }
   ],
   "source": [
    "arr=np.array([1,2,3,4,4,3,2,1,3,10])\n",
    "arr.reshape(2,5)\n",
    "# arr.shape\n"
   ]
  },
  {
   "cell_type": "code",
   "execution_count": 5,
   "id": "70aea096",
   "metadata": {},
   "outputs": [
    {
     "data": {
      "text/plain": [
       "array([[ 2, 34,  3],\n",
       "       [ 2,  4,  2],\n",
       "       [ 3,  4,  3]])"
      ]
     },
     "execution_count": 5,
     "metadata": {},
     "output_type": "execute_result"
    }
   ],
   "source": [
    "#  -1 \n",
    "import numpy as np\n",
    "arr=np.array([2,34,3,2,4,2,3,4,3])\n",
    "arr.reshape(3,-1)\n",
    "arr.reshape(-1,3)"
   ]
  },
  {
   "cell_type": "code",
   "execution_count": 35,
   "id": "7a28ee5a",
   "metadata": {},
   "outputs": [
    {
     "data": {
      "text/plain": [
       "array([ 1,  2,  3,  4,  4,  3,  2,  1,  3, 10])"
      ]
     },
     "execution_count": 35,
     "metadata": {},
     "output_type": "execute_result"
    }
   ],
   "source": [
    "import numpy as np\n",
    "arr=np.array([[ 1,  2,  3,  4,  4],\n",
    "       [ 3,  2,  1,  3, 10]])\n",
    "arr.reshape(-1)"
   ]
  },
  {
   "cell_type": "code",
   "execution_count": 50,
   "id": "56df684e",
   "metadata": {},
   "outputs": [
    {
     "data": {
      "text/plain": [
       "array([2, 4, 6])"
      ]
     },
     "execution_count": 50,
     "metadata": {},
     "output_type": "execute_result"
    }
   ],
   "source": [
    "a=np.array([1,2,3])\n",
    "b=np.array([1,2,3])\n",
    "a+b"
   ]
  },
  {
   "cell_type": "code",
   "execution_count": 39,
   "id": "42852288",
   "metadata": {},
   "outputs": [
    {
     "data": {
      "text/plain": [
       "array([1, 2, 3, 1, 2, 3])"
      ]
     },
     "execution_count": 39,
     "metadata": {},
     "output_type": "execute_result"
    }
   ],
   "source": [
    "# concatenate\n",
    "a=np.array([1,2,3])\n",
    "b=np.array([1,2,3])\n",
    "zx=np.concatenate([a,b])\n",
    "zx"
   ]
  },
  {
   "cell_type": "code",
   "execution_count": 31,
   "id": "f39a808c",
   "metadata": {},
   "outputs": [
    {
     "data": {
      "text/plain": [
       "array([[2, 3, 5],\n",
       "       [2, 3, 4]])"
      ]
     },
     "execution_count": 31,
     "metadata": {},
     "output_type": "execute_result"
    }
   ],
   "source": [
    "# split\n",
    "a=np.array([[2,3,5],[2,3,4]])\n",
    "np.split(a,1)\n",
    "a\n"
   ]
  },
  {
   "cell_type": "code",
   "execution_count": 7,
   "id": "d508a2c6",
   "metadata": {},
   "outputs": [
    {
     "data": {
      "text/plain": [
       "array([[1, 2, 3],\n",
       "       [1, 2, 3]])"
      ]
     },
     "execution_count": 7,
     "metadata": {},
     "output_type": "execute_result"
    }
   ],
   "source": [
    "# stack\n",
    "a=np.array([1,2,3])\n",
    "b=np.array([1,2,3])\n",
    "x=np.stack((a,b),axis=0)\n",
    "x"
   ]
  },
  {
   "cell_type": "code",
   "execution_count": null,
   "id": "90285581",
   "metadata": {},
   "outputs": [],
   "source": []
  }
 ],
 "metadata": {
  "kernelspec": {
   "display_name": "Python 3 (ipykernel)",
   "language": "python",
   "name": "python3"
  },
  "language_info": {
   "codemirror_mode": {
    "name": "ipython",
    "version": 3
   },
   "file_extension": ".py",
   "mimetype": "text/x-python",
   "name": "python",
   "nbconvert_exporter": "python",
   "pygments_lexer": "ipython3",
   "version": "3.11.0"
  }
 },
 "nbformat": 4,
 "nbformat_minor": 5
}
