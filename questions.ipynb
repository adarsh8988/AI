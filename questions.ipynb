{
 "cells": [
  {
   "cell_type": "code",
   "execution_count": 25,
   "id": "22991e19",
   "metadata": {},
   "outputs": [],
   "source": [
    "a=\"This is 2,3,a,1,car,2,4,4,car\""
   ]
  },
  {
   "cell_type": "code",
   "execution_count": 155,
   "id": "9f656875",
   "metadata": {
    "scrolled": true
   },
   "outputs": [
    {
     "name": "stdout",
     "output_type": "stream",
     "text": [
      "16\n"
     ]
    }
   ],
   "source": [
    "a=\"Thisis23a1car244car\"\n",
    "ax=\"\"\n",
    "zx=0\n",
    "for i in a:\n",
    "    if i.isdigit():\n",
    "        ax=ax+i\n",
    "for y in ax:\n",
    "    zx=zx+int(y)\n",
    "print(zx)\n",
    "        \n"
   ]
  },
  {
   "cell_type": "code",
   "execution_count": 152,
   "id": "e39294c3",
   "metadata": {},
   "outputs": [
    {
     "name": "stdout",
     "output_type": "stream",
     "text": [
      "The sum of 1234656 is 27\n"
     ]
    }
   ],
   "source": [
    "a = \"12ssstrxdt34td656\"\n",
    "ax = \"\"\n",
    "zx=0\n",
    "for i in a:\n",
    "    if i <= '9':\n",
    "        ax = ax+i\n",
    "for y in ax:\n",
    "    zx=zx+int(y)\n",
    "\n",
    "print(\"The sum of\" ,ax, \"is\" ,zx)"
   ]
  },
  {
   "cell_type": "code",
   "execution_count": 141,
   "id": "18600d95",
   "metadata": {},
   "outputs": [],
   "source": [
    "ax = 1234656\n",
    "ax = [i for i in str(ax)]"
   ]
  },
  {
   "cell_type": "code",
   "execution_count": 142,
   "id": "c671eb9f",
   "metadata": {},
   "outputs": [
    {
     "data": {
      "text/plain": [
       "['1', '2', '3', '4', '6', '5', '6']"
      ]
     },
     "execution_count": 142,
     "metadata": {},
     "output_type": "execute_result"
    }
   ],
   "source": [
    "ax"
   ]
  },
  {
   "cell_type": "code",
   "execution_count": null,
   "id": "6b703471",
   "metadata": {},
   "outputs": [],
   "source": []
  }
 ],
 "metadata": {
  "kernelspec": {
   "display_name": "Python 3 (ipykernel)",
   "language": "python",
   "name": "python3"
  },
  "language_info": {
   "codemirror_mode": {
    "name": "ipython",
    "version": 3
   },
   "file_extension": ".py",
   "mimetype": "text/x-python",
   "name": "python",
   "nbconvert_exporter": "python",
   "pygments_lexer": "ipython3",
   "version": "3.11.0"
  }
 },
 "nbformat": 4,
 "nbformat_minor": 5
}
