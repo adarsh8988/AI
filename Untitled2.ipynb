{
 "cells": [
  {
   "cell_type": "code",
   "execution_count": 10,
   "id": "12449dea",
   "metadata": {},
   "outputs": [
    {
     "name": "stdout",
     "output_type": "stream",
     "text": [
      "Tensor Sum:\n",
      "[[ 8 10 12]\n",
      " [14 16 18]]\n",
      "\n",
      "\n",
      "Tensor Product:\n",
      "[[ 7 16 27]\n",
      " [40 55 72]]\n"
     ]
    }
   ],
   "source": [
    "import tensorflow as tf\n",
    "\n",
    "# Create tensors\n",
    "tensor1 = tf.constant([[1, 2, 3], [4, 5, 6]])\n",
    "tensor2 = tf.constant([[7, 8, 9], [10, 11, 12]])\n",
    "\n",
    "# Perform tensor operations\n",
    "tensor_sum = tf.add(tensor1, tensor2)\n",
    "tensor_product = tf.multiply(tensor1, tensor2)\n",
    "\n",
    "# Print the results\n",
    "print(\"Tensor Sum:\")\n",
    "print(tensor_sum.numpy())  # Convert tensor to NumPy array for printing\n",
    "print(\"\\nTensor Product:\")\n",
    "print(tensor_product.numpy())"
   ]
  },
  {
   "cell_type": "code",
   "execution_count": null,
   "id": "c2a91c21",
   "metadata": {},
   "outputs": [],
   "source": []
  }
 ],
 "metadata": {
  "kernelspec": {
   "display_name": "Python 3 (ipykernel)",
   "language": "python",
   "name": "python3"
  },
  "language_info": {
   "codemirror_mode": {
    "name": "ipython",
    "version": 3
   },
   "file_extension": ".py",
   "mimetype": "text/x-python",
   "name": "python",
   "nbconvert_exporter": "python",
   "pygments_lexer": "ipython3",
   "version": "3.11.0"
  }
 },
 "nbformat": 4,
 "nbformat_minor": 5
}
